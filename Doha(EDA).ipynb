{
 "cells": [
  {
   "cell_type": "code",
   "execution_count": 1,
   "id": "70687f78-e832-4f55-b767-cb547ec8d5c3",
   "metadata": {},
   "outputs": [
    {
     "name": "stdout",
     "output_type": "stream",
     "text": [
      "Defaulting to user installation because normal site-packages is not writeable\n",
      "Requirement already satisfied: xgboost in /home/othmanelfadil/.local/lib/python3.13/site-packages (3.0.2)\n",
      "Requirement already satisfied: numpy in /home/othmanelfadil/.local/lib/python3.13/site-packages (from xgboost) (2.2.5)\n",
      "Requirement already satisfied: nvidia-nccl-cu12 in /home/othmanelfadil/.local/lib/python3.13/site-packages (from xgboost) (2.21.5)\n",
      "Requirement already satisfied: scipy in /home/othmanelfadil/.local/lib/python3.13/site-packages (from xgboost) (1.15.2)\n",
      "Note: you may need to restart the kernel to use updated packages.\n"
     ]
    }
   ],
   "source": [
    "pip install xgboost"
   ]
  },
  {
   "cell_type": "code",
   "execution_count": 54,
   "id": "b575b83e-b537-458d-bf5c-3f79b9e0b32b",
   "metadata": {},
   "outputs": [],
   "source": [
    "import pandas as pd\n",
    "import numpy as np\n",
    "import seaborn as sns\n",
    "import matplotlib.pyplot as plt\n",
    "import xgboost as xgb\n",
    "from sklearn.model_selection import train_test_split\n",
    "from sklearn.metrics import mean_squared_error, r2_score\n",
    "import warnings\n",
    "#testing with a normal linear regression model\n",
    "from sklearn.linear_model import LinearRegression\n",
    "from sklearn.impute import SimpleImputer\n",
    "from sklearn.pipeline import Pipeline"
   ]
  },
  {
   "cell_type": "code",
   "execution_count": 3,
   "id": "95d3440f-d4e9-4890-b63c-2ee29bd9113c",
   "metadata": {},
   "outputs": [],
   "source": [
    "warnings.simplefilter(action = \"ignore\", category = RuntimeWarning)"
   ]
  },
  {
   "cell_type": "code",
   "execution_count": 4,
   "id": "593859a5-9ce5-4f75-a414-3a98386e4b06",
   "metadata": {},
   "outputs": [],
   "source": [
    "sns.set_style('whitegrid')"
   ]
  },
  {
   "cell_type": "code",
   "execution_count": 5,
   "id": "d35d2b5a-4eca-4f66-8bab-3163947b1580",
   "metadata": {},
   "outputs": [
    {
     "data": {
      "text/html": [
       "<div>\n",
       "<style scoped>\n",
       "    .dataframe tbody tr th:only-of-type {\n",
       "        vertical-align: middle;\n",
       "    }\n",
       "\n",
       "    .dataframe tbody tr th {\n",
       "        vertical-align: top;\n",
       "    }\n",
       "\n",
       "    .dataframe thead th {\n",
       "        text-align: right;\n",
       "    }\n",
       "</style>\n",
       "<table border=\"1\" class=\"dataframe\">\n",
       "  <thead>\n",
       "    <tr style=\"text-align: right;\">\n",
       "      <th></th>\n",
       "      <th>Societe</th>\n",
       "      <th>BU</th>\n",
       "      <th>Ville</th>\n",
       "      <th>Column1</th>\n",
       "      <th>Programme</th>\n",
       "      <th>Bien</th>\n",
       "      <th>Nature</th>\n",
       "      <th>Sup_Totale</th>\n",
       "      <th>Date_TF</th>\n",
       "      <th>Date_Reservation</th>\n",
       "      <th>...</th>\n",
       "      <th>Solde</th>\n",
       "      <th>CA</th>\n",
       "      <th>Vendu_Par</th>\n",
       "      <th>Annee_declaration</th>\n",
       "      <th>Type_Contrat</th>\n",
       "      <th>TYP PROJET</th>\n",
       "      <th>MARGE</th>\n",
       "      <th>STATU</th>\n",
       "      <th>REGION</th>\n",
       "      <th>Unnamed: 22</th>\n",
       "    </tr>\n",
       "  </thead>\n",
       "  <tbody>\n",
       "    <tr>\n",
       "      <th>0</th>\n",
       "      <td>PREMIUM PRIME REALTIES</td>\n",
       "      <td>AUTREE</td>\n",
       "      <td>CASABLANCA</td>\n",
       "      <td>NaN</td>\n",
       "      <td>BAYT AL HAMD</td>\n",
       "      <td>BHMSDAGH09M001</td>\n",
       "      <td>Magasin</td>\n",
       "      <td>57.0</td>\n",
       "      <td>NaN</td>\n",
       "      <td>12/24/2020</td>\n",
       "      <td>...</td>\n",
       "      <td>Oui</td>\n",
       "      <td>340,000.00</td>\n",
       "      <td>Mohamed Reda BOUSSEIRI</td>\n",
       "      <td>2022.0</td>\n",
       "      <td>Contrat</td>\n",
       "      <td>ECO</td>\n",
       "      <td>68,000.00</td>\n",
       "      <td>PAYÉE</td>\n",
       "      <td>Casablanca-Settat</td>\n",
       "      <td>NaN</td>\n",
       "    </tr>\n",
       "    <tr>\n",
       "      <th>1</th>\n",
       "      <td>PREMIUM PRIME REALTIES</td>\n",
       "      <td>AUTREE</td>\n",
       "      <td>CASABLANCA</td>\n",
       "      <td>NaN</td>\n",
       "      <td>BAYT AL HAMD</td>\n",
       "      <td>BHMMLATR7(R+1)T014</td>\n",
       "      <td>Terrain</td>\n",
       "      <td>337.0</td>\n",
       "      <td>6/30/2018</td>\n",
       "      <td>12/25/2020</td>\n",
       "      <td>...</td>\n",
       "      <td>Oui</td>\n",
       "      <td>604,800.00</td>\n",
       "      <td>BENABID MUSTAPHA</td>\n",
       "      <td>2022.0</td>\n",
       "      <td>Contrat</td>\n",
       "      <td>MS</td>\n",
       "      <td>181,440.00</td>\n",
       "      <td>PAYÉE</td>\n",
       "      <td>Casablanca-Settat</td>\n",
       "      <td>NaN</td>\n",
       "    </tr>\n",
       "    <tr>\n",
       "      <th>2</th>\n",
       "      <td>PREMIUM PRIME REALTIES</td>\n",
       "      <td>AUTREE</td>\n",
       "      <td>CASABLANCA</td>\n",
       "      <td>NaN</td>\n",
       "      <td>BAYT AL HAMD</td>\n",
       "      <td>BHMSDAGH09M002</td>\n",
       "      <td>Magasin</td>\n",
       "      <td>55.0</td>\n",
       "      <td>NaN</td>\n",
       "      <td>12/26/2020</td>\n",
       "      <td>...</td>\n",
       "      <td>Oui</td>\n",
       "      <td>330,000.00</td>\n",
       "      <td>Mohamed Reda BOUSSEIRI</td>\n",
       "      <td>2022.0</td>\n",
       "      <td>Contrat</td>\n",
       "      <td>ECO</td>\n",
       "      <td>66,000.00</td>\n",
       "      <td>PAYÉE</td>\n",
       "      <td>Casablanca-Settat</td>\n",
       "      <td>NaN</td>\n",
       "    </tr>\n",
       "    <tr>\n",
       "      <th>3</th>\n",
       "      <td>PREMIUM PRIME REALTIES</td>\n",
       "      <td>AUTREE</td>\n",
       "      <td>CASABLANCA</td>\n",
       "      <td>NaN</td>\n",
       "      <td>BAYT AL HAMD</td>\n",
       "      <td>BHMAZRA091A012</td>\n",
       "      <td>Appartement</td>\n",
       "      <td>0.0</td>\n",
       "      <td>NaN</td>\n",
       "      <td>12/27/2020</td>\n",
       "      <td>...</td>\n",
       "      <td>Oui</td>\n",
       "      <td>360,000.00</td>\n",
       "      <td>SANS COMMISSION</td>\n",
       "      <td>2022.0</td>\n",
       "      <td>Contrat</td>\n",
       "      <td>MS</td>\n",
       "      <td>108,000.00</td>\n",
       "      <td>PAYÉE</td>\n",
       "      <td>Casablanca-Settat</td>\n",
       "      <td>NaN</td>\n",
       "    </tr>\n",
       "    <tr>\n",
       "      <th>4</th>\n",
       "      <td>PREMIUM PRIME REALTIES</td>\n",
       "      <td>AUTREE</td>\n",
       "      <td>CASABLANCA</td>\n",
       "      <td>NaN</td>\n",
       "      <td>BAYT AL HAMD</td>\n",
       "      <td>BHMMLATR3(R+1)T001</td>\n",
       "      <td>Terrain</td>\n",
       "      <td>664.0</td>\n",
       "      <td>6/30/2017</td>\n",
       "      <td>12/28/2020</td>\n",
       "      <td>...</td>\n",
       "      <td>Oui</td>\n",
       "      <td>1,195,200.00</td>\n",
       "      <td>HAJAR BEN BRAHIM</td>\n",
       "      <td>2022.0</td>\n",
       "      <td>Contrat</td>\n",
       "      <td>HS</td>\n",
       "      <td>478,080.00</td>\n",
       "      <td>PAYÉE</td>\n",
       "      <td>Casablanca-Settat</td>\n",
       "      <td>NaN</td>\n",
       "    </tr>\n",
       "  </tbody>\n",
       "</table>\n",
       "<p>5 rows × 23 columns</p>\n",
       "</div>"
      ],
      "text/plain": [
       "                  Societe      BU       Ville  Column1     Programme  \\\n",
       "0  PREMIUM PRIME REALTIES  AUTREE  CASABLANCA      NaN  BAYT AL HAMD   \n",
       "1  PREMIUM PRIME REALTIES  AUTREE  CASABLANCA      NaN  BAYT AL HAMD   \n",
       "2  PREMIUM PRIME REALTIES  AUTREE  CASABLANCA      NaN  BAYT AL HAMD   \n",
       "3  PREMIUM PRIME REALTIES  AUTREE  CASABLANCA      NaN  BAYT AL HAMD   \n",
       "4  PREMIUM PRIME REALTIES  AUTREE  CASABLANCA      NaN  BAYT AL HAMD   \n",
       "\n",
       "                 Bien       Nature  Sup_Totale    Date_TF Date_Reservation  \\\n",
       "0      BHMSDAGH09M001      Magasin        57.0        NaN       12/24/2020   \n",
       "1  BHMMLATR7(R+1)T014      Terrain       337.0  6/30/2018       12/25/2020   \n",
       "2      BHMSDAGH09M002      Magasin        55.0        NaN       12/26/2020   \n",
       "3      BHMAZRA091A012  Appartement         0.0        NaN       12/27/2020   \n",
       "4  BHMMLATR3(R+1)T001      Terrain       664.0  6/30/2017       12/28/2020   \n",
       "\n",
       "   ... Solde             CA                Vendu_Par Annee_declaration  \\\n",
       "0  ...   Oui     340,000.00   Mohamed Reda BOUSSEIRI            2022.0   \n",
       "1  ...   Oui     604,800.00         BENABID MUSTAPHA            2022.0   \n",
       "2  ...   Oui     330,000.00   Mohamed Reda BOUSSEIRI            2022.0   \n",
       "3  ...   Oui     360,000.00          SANS COMMISSION            2022.0   \n",
       "4  ...   Oui   1,195,200.00         HAJAR BEN BRAHIM            2022.0   \n",
       "\n",
       "  Type_Contrat TYP PROJET        MARGE   STATU             REGION Unnamed: 22  \n",
       "0      Contrat       ECO     68,000.00   PAYÉE  Casablanca-Settat         NaN  \n",
       "1      Contrat        MS    181,440.00   PAYÉE  Casablanca-Settat         NaN  \n",
       "2      Contrat       ECO     66,000.00   PAYÉE  Casablanca-Settat         NaN  \n",
       "3      Contrat        MS    108,000.00   PAYÉE  Casablanca-Settat         NaN  \n",
       "4      Contrat        HS    478,080.00   PAYÉE  Casablanca-Settat         NaN  \n",
       "\n",
       "[5 rows x 23 columns]"
      ]
     },
     "execution_count": 5,
     "metadata": {},
     "output_type": "execute_result"
    }
   ],
   "source": [
    "df = pd.read_csv('Doha(Données).csv', encoding='latin-1', index_col = False)\n",
    "df.head()"
   ]
  },
  {
   "cell_type": "code",
   "execution_count": 6,
   "id": "651cc1c0-26bd-45d2-9366-2b58aff952e2",
   "metadata": {},
   "outputs": [],
   "source": [
    "df = df.drop(columns=['Unnamed: 22'])"
   ]
  },
  {
   "cell_type": "code",
   "execution_count": 7,
   "id": "cb78edb6-eb4b-4cb8-8e60-bd7238ce0e0e",
   "metadata": {},
   "outputs": [
    {
     "data": {
      "text/html": [
       "<div>\n",
       "<style scoped>\n",
       "    .dataframe tbody tr th:only-of-type {\n",
       "        vertical-align: middle;\n",
       "    }\n",
       "\n",
       "    .dataframe tbody tr th {\n",
       "        vertical-align: top;\n",
       "    }\n",
       "\n",
       "    .dataframe thead th {\n",
       "        text-align: right;\n",
       "    }\n",
       "</style>\n",
       "<table border=\"1\" class=\"dataframe\">\n",
       "  <thead>\n",
       "    <tr style=\"text-align: right;\">\n",
       "      <th></th>\n",
       "      <th>Societe</th>\n",
       "      <th>BU</th>\n",
       "      <th>Ville</th>\n",
       "      <th>Column1</th>\n",
       "      <th>Programme</th>\n",
       "      <th>Bien</th>\n",
       "      <th>Nature</th>\n",
       "      <th>Sup_Totale</th>\n",
       "      <th>Date_TF</th>\n",
       "      <th>Date_Reservation</th>\n",
       "      <th>...</th>\n",
       "      <th>Reliquat</th>\n",
       "      <th>Solde</th>\n",
       "      <th>CA</th>\n",
       "      <th>Vendu_Par</th>\n",
       "      <th>Annee_declaration</th>\n",
       "      <th>Type_Contrat</th>\n",
       "      <th>TYP PROJET</th>\n",
       "      <th>MARGE</th>\n",
       "      <th>STATU</th>\n",
       "      <th>REGION</th>\n",
       "    </tr>\n",
       "  </thead>\n",
       "  <tbody>\n",
       "    <tr>\n",
       "      <th>0</th>\n",
       "      <td>PREMIUM PRIME REALTIES</td>\n",
       "      <td>AUTREE</td>\n",
       "      <td>CASABLANCA</td>\n",
       "      <td>NaN</td>\n",
       "      <td>BAYT AL HAMD</td>\n",
       "      <td>BHMSDAGH09M001</td>\n",
       "      <td>Magasin</td>\n",
       "      <td>57.0</td>\n",
       "      <td>NaN</td>\n",
       "      <td>12/24/2020</td>\n",
       "      <td>...</td>\n",
       "      <td>0.0</td>\n",
       "      <td>Oui</td>\n",
       "      <td>340,000.00</td>\n",
       "      <td>Mohamed Reda BOUSSEIRI</td>\n",
       "      <td>2022.0</td>\n",
       "      <td>Contrat</td>\n",
       "      <td>ECO</td>\n",
       "      <td>68,000.00</td>\n",
       "      <td>PAYÉE</td>\n",
       "      <td>Casablanca-Settat</td>\n",
       "    </tr>\n",
       "    <tr>\n",
       "      <th>1</th>\n",
       "      <td>PREMIUM PRIME REALTIES</td>\n",
       "      <td>AUTREE</td>\n",
       "      <td>CASABLANCA</td>\n",
       "      <td>NaN</td>\n",
       "      <td>BAYT AL HAMD</td>\n",
       "      <td>BHMMLATR7(R+1)T014</td>\n",
       "      <td>Terrain</td>\n",
       "      <td>337.0</td>\n",
       "      <td>6/30/2018</td>\n",
       "      <td>12/25/2020</td>\n",
       "      <td>...</td>\n",
       "      <td>0.0</td>\n",
       "      <td>Oui</td>\n",
       "      <td>604,800.00</td>\n",
       "      <td>BENABID MUSTAPHA</td>\n",
       "      <td>2022.0</td>\n",
       "      <td>Contrat</td>\n",
       "      <td>MS</td>\n",
       "      <td>181,440.00</td>\n",
       "      <td>PAYÉE</td>\n",
       "      <td>Casablanca-Settat</td>\n",
       "    </tr>\n",
       "    <tr>\n",
       "      <th>2</th>\n",
       "      <td>PREMIUM PRIME REALTIES</td>\n",
       "      <td>AUTREE</td>\n",
       "      <td>CASABLANCA</td>\n",
       "      <td>NaN</td>\n",
       "      <td>BAYT AL HAMD</td>\n",
       "      <td>BHMSDAGH09M002</td>\n",
       "      <td>Magasin</td>\n",
       "      <td>55.0</td>\n",
       "      <td>NaN</td>\n",
       "      <td>12/26/2020</td>\n",
       "      <td>...</td>\n",
       "      <td>0.0</td>\n",
       "      <td>Oui</td>\n",
       "      <td>330,000.00</td>\n",
       "      <td>Mohamed Reda BOUSSEIRI</td>\n",
       "      <td>2022.0</td>\n",
       "      <td>Contrat</td>\n",
       "      <td>ECO</td>\n",
       "      <td>66,000.00</td>\n",
       "      <td>PAYÉE</td>\n",
       "      <td>Casablanca-Settat</td>\n",
       "    </tr>\n",
       "    <tr>\n",
       "      <th>3</th>\n",
       "      <td>PREMIUM PRIME REALTIES</td>\n",
       "      <td>AUTREE</td>\n",
       "      <td>CASABLANCA</td>\n",
       "      <td>NaN</td>\n",
       "      <td>BAYT AL HAMD</td>\n",
       "      <td>BHMAZRA091A012</td>\n",
       "      <td>Appartement</td>\n",
       "      <td>0.0</td>\n",
       "      <td>NaN</td>\n",
       "      <td>12/27/2020</td>\n",
       "      <td>...</td>\n",
       "      <td>0.0</td>\n",
       "      <td>Oui</td>\n",
       "      <td>360,000.00</td>\n",
       "      <td>SANS COMMISSION</td>\n",
       "      <td>2022.0</td>\n",
       "      <td>Contrat</td>\n",
       "      <td>MS</td>\n",
       "      <td>108,000.00</td>\n",
       "      <td>PAYÉE</td>\n",
       "      <td>Casablanca-Settat</td>\n",
       "    </tr>\n",
       "    <tr>\n",
       "      <th>4</th>\n",
       "      <td>PREMIUM PRIME REALTIES</td>\n",
       "      <td>AUTREE</td>\n",
       "      <td>CASABLANCA</td>\n",
       "      <td>NaN</td>\n",
       "      <td>BAYT AL HAMD</td>\n",
       "      <td>BHMMLATR3(R+1)T001</td>\n",
       "      <td>Terrain</td>\n",
       "      <td>664.0</td>\n",
       "      <td>6/30/2017</td>\n",
       "      <td>12/28/2020</td>\n",
       "      <td>...</td>\n",
       "      <td>0.0</td>\n",
       "      <td>Oui</td>\n",
       "      <td>1,195,200.00</td>\n",
       "      <td>HAJAR BEN BRAHIM</td>\n",
       "      <td>2022.0</td>\n",
       "      <td>Contrat</td>\n",
       "      <td>HS</td>\n",
       "      <td>478,080.00</td>\n",
       "      <td>PAYÉE</td>\n",
       "      <td>Casablanca-Settat</td>\n",
       "    </tr>\n",
       "  </tbody>\n",
       "</table>\n",
       "<p>5 rows × 22 columns</p>\n",
       "</div>"
      ],
      "text/plain": [
       "                  Societe      BU       Ville  Column1     Programme  \\\n",
       "0  PREMIUM PRIME REALTIES  AUTREE  CASABLANCA      NaN  BAYT AL HAMD   \n",
       "1  PREMIUM PRIME REALTIES  AUTREE  CASABLANCA      NaN  BAYT AL HAMD   \n",
       "2  PREMIUM PRIME REALTIES  AUTREE  CASABLANCA      NaN  BAYT AL HAMD   \n",
       "3  PREMIUM PRIME REALTIES  AUTREE  CASABLANCA      NaN  BAYT AL HAMD   \n",
       "4  PREMIUM PRIME REALTIES  AUTREE  CASABLANCA      NaN  BAYT AL HAMD   \n",
       "\n",
       "                 Bien       Nature  Sup_Totale    Date_TF Date_Reservation  \\\n",
       "0      BHMSDAGH09M001      Magasin        57.0        NaN       12/24/2020   \n",
       "1  BHMMLATR7(R+1)T014      Terrain       337.0  6/30/2018       12/25/2020   \n",
       "2      BHMSDAGH09M002      Magasin        55.0        NaN       12/26/2020   \n",
       "3      BHMAZRA091A012  Appartement         0.0        NaN       12/27/2020   \n",
       "4  BHMMLATR3(R+1)T001      Terrain       664.0  6/30/2017       12/28/2020   \n",
       "\n",
       "   ... Reliquat Solde             CA                Vendu_Par  \\\n",
       "0  ...      0.0   Oui     340,000.00   Mohamed Reda BOUSSEIRI   \n",
       "1  ...      0.0   Oui     604,800.00         BENABID MUSTAPHA   \n",
       "2  ...      0.0   Oui     330,000.00   Mohamed Reda BOUSSEIRI   \n",
       "3  ...      0.0   Oui     360,000.00          SANS COMMISSION   \n",
       "4  ...      0.0   Oui   1,195,200.00         HAJAR BEN BRAHIM   \n",
       "\n",
       "  Annee_declaration Type_Contrat  TYP PROJET        MARGE   STATU  \\\n",
       "0            2022.0      Contrat        ECO     68,000.00   PAYÉE   \n",
       "1            2022.0      Contrat         MS    181,440.00   PAYÉE   \n",
       "2            2022.0      Contrat        ECO     66,000.00   PAYÉE   \n",
       "3            2022.0      Contrat         MS    108,000.00   PAYÉE   \n",
       "4            2022.0      Contrat         HS    478,080.00   PAYÉE   \n",
       "\n",
       "              REGION  \n",
       "0  Casablanca-Settat  \n",
       "1  Casablanca-Settat  \n",
       "2  Casablanca-Settat  \n",
       "3  Casablanca-Settat  \n",
       "4  Casablanca-Settat  \n",
       "\n",
       "[5 rows x 22 columns]"
      ]
     },
     "execution_count": 7,
     "metadata": {},
     "output_type": "execute_result"
    }
   ],
   "source": [
    "df.head()"
   ]
  },
  {
   "cell_type": "code",
   "execution_count": 8,
   "id": "e1442d96-d533-4795-9900-4a1a07426d3f",
   "metadata": {},
   "outputs": [
    {
     "data": {
      "text/plain": [
       "(11744, 22)"
      ]
     },
     "execution_count": 8,
     "metadata": {},
     "output_type": "execute_result"
    }
   ],
   "source": [
    "df.shape"
   ]
  },
  {
   "cell_type": "code",
   "execution_count": 9,
   "id": "edde7aa0-a6db-4e6d-b2b9-183ff42b35c9",
   "metadata": {},
   "outputs": [
    {
     "name": "stdout",
     "output_type": "stream",
     "text": [
      "<class 'pandas.core.frame.DataFrame'>\n",
      "RangeIndex: 11744 entries, 0 to 11743\n",
      "Data columns (total 22 columns):\n",
      " #   Column               Non-Null Count  Dtype  \n",
      "---  ------               --------------  -----  \n",
      " 0   Societe              11743 non-null  object \n",
      " 1   BU                   11743 non-null  object \n",
      " 2   Ville                11743 non-null  object \n",
      " 3   Column1              0 non-null      float64\n",
      " 4   Programme            11743 non-null  object \n",
      " 5   Bien                 11743 non-null  object \n",
      " 6   Nature               11743 non-null  object \n",
      " 7   Sup_Totale           11743 non-null  float64\n",
      " 8   Date_TF              10814 non-null  object \n",
      " 9   Date_Reservation     11606 non-null  object \n",
      " 10  Date_Concretisation  11593 non-null  object \n",
      " 11  Date_Verif           11743 non-null  object \n",
      " 12  Reliquat             11606 non-null  float64\n",
      " 13  Solde                11743 non-null  object \n",
      " 14   CA                  11744 non-null  object \n",
      " 15  Vendu_Par            11606 non-null  object \n",
      " 16  Annee_declaration    11743 non-null  float64\n",
      " 17  Type_Contrat         11743 non-null  object \n",
      " 18  TYP PROJET           11743 non-null  object \n",
      " 19  MARGE                11743 non-null  object \n",
      " 20  STATU                11743 non-null  object \n",
      " 21  REGION               11743 non-null  object \n",
      "dtypes: float64(4), object(18)\n",
      "memory usage: 2.0+ MB\n"
     ]
    }
   ],
   "source": [
    "df.info()"
   ]
  },
  {
   "cell_type": "code",
   "execution_count": 10,
   "id": "e656f085-22e2-4c42-8c19-31978e75959c",
   "metadata": {},
   "outputs": [
    {
     "data": {
      "text/html": [
       "<div>\n",
       "<style scoped>\n",
       "    .dataframe tbody tr th:only-of-type {\n",
       "        vertical-align: middle;\n",
       "    }\n",
       "\n",
       "    .dataframe tbody tr th {\n",
       "        vertical-align: top;\n",
       "    }\n",
       "\n",
       "    .dataframe thead th {\n",
       "        text-align: right;\n",
       "    }\n",
       "</style>\n",
       "<table border=\"1\" class=\"dataframe\">\n",
       "  <thead>\n",
       "    <tr style=\"text-align: right;\">\n",
       "      <th></th>\n",
       "      <th>Column1</th>\n",
       "      <th>Sup_Totale</th>\n",
       "      <th>Reliquat</th>\n",
       "      <th>Annee_declaration</th>\n",
       "    </tr>\n",
       "  </thead>\n",
       "  <tbody>\n",
       "    <tr>\n",
       "      <th>count</th>\n",
       "      <td>0.000</td>\n",
       "      <td>11743.000</td>\n",
       "      <td>11606.000</td>\n",
       "      <td>11743.000</td>\n",
       "    </tr>\n",
       "    <tr>\n",
       "      <th>mean</th>\n",
       "      <td>nan</td>\n",
       "      <td>54.558</td>\n",
       "      <td>26281.059</td>\n",
       "      <td>2023.234</td>\n",
       "    </tr>\n",
       "    <tr>\n",
       "      <th>std</th>\n",
       "      <td>nan</td>\n",
       "      <td>187.893</td>\n",
       "      <td>254981.539</td>\n",
       "      <td>0.803</td>\n",
       "    </tr>\n",
       "    <tr>\n",
       "      <th>min</th>\n",
       "      <td>nan</td>\n",
       "      <td>0.000</td>\n",
       "      <td>-6659500.000</td>\n",
       "      <td>2022.000</td>\n",
       "    </tr>\n",
       "    <tr>\n",
       "      <th>25%</th>\n",
       "      <td>nan</td>\n",
       "      <td>0.000</td>\n",
       "      <td>-44574.320</td>\n",
       "      <td>2023.000</td>\n",
       "    </tr>\n",
       "    <tr>\n",
       "      <th>50%</th>\n",
       "      <td>nan</td>\n",
       "      <td>0.000</td>\n",
       "      <td>0.000</td>\n",
       "      <td>2023.000</td>\n",
       "    </tr>\n",
       "    <tr>\n",
       "      <th>75%</th>\n",
       "      <td>nan</td>\n",
       "      <td>78.000</td>\n",
       "      <td>0.000</td>\n",
       "      <td>2024.000</td>\n",
       "    </tr>\n",
       "    <tr>\n",
       "      <th>max</th>\n",
       "      <td>nan</td>\n",
       "      <td>7588.000</td>\n",
       "      <td>12665000.000</td>\n",
       "      <td>2024.000</td>\n",
       "    </tr>\n",
       "  </tbody>\n",
       "</table>\n",
       "</div>"
      ],
      "text/plain": [
       "      Column1 Sup_Totale      Reliquat Annee_declaration\n",
       "count   0.000  11743.000     11606.000         11743.000\n",
       "mean      nan     54.558     26281.059          2023.234\n",
       "std       nan    187.893    254981.539             0.803\n",
       "min       nan      0.000  -6659500.000          2022.000\n",
       "25%       nan      0.000    -44574.320          2023.000\n",
       "50%       nan      0.000         0.000          2023.000\n",
       "75%       nan     78.000         0.000          2024.000\n",
       "max       nan   7588.000  12665000.000          2024.000"
      ]
     },
     "execution_count": 10,
     "metadata": {},
     "output_type": "execute_result"
    }
   ],
   "source": [
    "df.describe().map(lambda x: f\"{x:0.3f}\")"
   ]
  },
  {
   "cell_type": "code",
   "execution_count": 11,
   "id": "8cd6e34f-68b1-4445-b964-64184cf911d3",
   "metadata": {},
   "outputs": [
    {
     "data": {
      "text/plain": [
       "Societe                    1\n",
       "BU                         1\n",
       "Ville                      1\n",
       "Column1                11744\n",
       "Programme                  1\n",
       "Bien                       1\n",
       "Nature                     1\n",
       "Sup_Totale                 1\n",
       "Date_TF                  930\n",
       "Date_Reservation         138\n",
       "Date_Concretisation      151\n",
       "Date_Verif                 1\n",
       "Reliquat                 138\n",
       "Solde                      1\n",
       " CA                        0\n",
       "Vendu_Par                138\n",
       "Annee_declaration          1\n",
       "Type_Contrat               1\n",
       "TYP PROJET                 1\n",
       "MARGE                      1\n",
       "STATU                      1\n",
       "REGION                     1\n",
       "dtype: int64"
      ]
     },
     "execution_count": 11,
     "metadata": {},
     "output_type": "execute_result"
    }
   ],
   "source": [
    "df.isnull().sum()"
   ]
  },
  {
   "cell_type": "code",
   "execution_count": 12,
   "id": "b991f8c9-4677-411a-a88c-fbeac51dcc55",
   "metadata": {},
   "outputs": [],
   "source": [
    "df = df.drop(columns=['Column1'])"
   ]
  },
  {
   "cell_type": "code",
   "execution_count": 13,
   "id": "ab9d1046-0ef0-495d-a59f-da3955fed090",
   "metadata": {},
   "outputs": [
    {
     "data": {
      "text/plain": [
       "Societe                  1\n",
       "BU                       1\n",
       "Ville                    1\n",
       "Programme                1\n",
       "Bien                     1\n",
       "Nature                   1\n",
       "Sup_Totale               1\n",
       "Date_TF                930\n",
       "Date_Reservation       138\n",
       "Date_Concretisation    151\n",
       "Date_Verif               1\n",
       "Reliquat               138\n",
       "Solde                    1\n",
       " CA                      0\n",
       "Vendu_Par              138\n",
       "Annee_declaration        1\n",
       "Type_Contrat             1\n",
       "TYP PROJET               1\n",
       "MARGE                    1\n",
       "STATU                    1\n",
       "REGION                   1\n",
       "dtype: int64"
      ]
     },
     "execution_count": 13,
     "metadata": {},
     "output_type": "execute_result"
    }
   ],
   "source": [
    "df.isnull().sum()"
   ]
  },
  {
   "cell_type": "code",
   "execution_count": 14,
   "id": "f3312614-bc2b-4b59-aee8-e06b886cd9f8",
   "metadata": {},
   "outputs": [
    {
     "data": {
      "text/plain": [
       "Societe                   14\n",
       "BU                         4\n",
       "Ville                     19\n",
       "Programme                 81\n",
       "Bien                   11272\n",
       "Nature                     5\n",
       "Sup_Totale               482\n",
       "Date_TF                  201\n",
       "Date_Reservation        1788\n",
       "Date_Concretisation     1516\n",
       "Date_Verif               272\n",
       "Reliquat                1890\n",
       "Solde                      2\n",
       " CA                     2817\n",
       "Vendu_Par                194\n",
       "Annee_declaration          3\n",
       "Type_Contrat               3\n",
       "TYP PROJET                 4\n",
       "MARGE                   2467\n",
       "STATU                      3\n",
       "REGION                    11\n",
       "dtype: int64"
      ]
     },
     "execution_count": 14,
     "metadata": {},
     "output_type": "execute_result"
    }
   ],
   "source": [
    "df.nunique()"
   ]
  },
  {
   "cell_type": "code",
   "execution_count": 70,
   "id": "2a8b4187-caa7-47de-8722-45b3b914e9fb",
   "metadata": {},
   "outputs": [
    {
     "name": "stdout",
     "output_type": "stream",
     "text": [
      "Zeros in superficie totale: 6748\n"
     ]
    }
   ],
   "source": [
    "print(\"Zeros in superficie totale:\",(df['Sup_Totale'] == 0).sum())"
   ]
  },
  {
   "cell_type": "code",
   "execution_count": 15,
   "id": "5a2b55ad-88af-414e-9642-21d733e5feb7",
   "metadata": {},
   "outputs": [
    {
     "data": {
      "text/plain": [
       "Nature\n",
       "Appartement    9665\n",
       "Terrain        1376\n",
       "Magasin         510\n",
       "Villa           189\n",
       "P                 3\n",
       "Name: count, dtype: int64"
      ]
     },
     "execution_count": 15,
     "metadata": {},
     "output_type": "execute_result"
    }
   ],
   "source": [
    "df['Nature'].value_counts()"
   ]
  },
  {
   "cell_type": "code",
   "execution_count": 16,
   "id": "869d8fc9-fe9f-45c8-a3c7-4099237e2dec",
   "metadata": {},
   "outputs": [
    {
     "name": "stdout",
     "output_type": "stream",
     "text": [
      "Date_TF - Max Date: 2025-01-23 00:00:00, Min Date: 2007-09-21 00:00:00\n",
      "Date_Reservation - Max Date: 2025-05-19 00:00:00, Min Date: 2008-04-30 00:00:00\n",
      "Date_Concretisation - Max Date: 2025-05-20 00:00:00, Min Date: 2008-05-06 00:00:00\n",
      "Date_Verif - Max Date: 2024-12-31 00:00:00, Min Date: 2022-01-02 00:00:00\n"
     ]
    }
   ],
   "source": [
    "for col in ['Date_TF', 'Date_Reservation', 'Date_Concretisation', 'Date_Verif']:\n",
    "    print(f\"{col} - Max Date: {pd.to_datetime(df[col]).max()}, Min Date: {pd.to_datetime(df[col]).min()}\")"
   ]
  },
  {
   "cell_type": "code",
   "execution_count": 17,
   "id": "dd276e2e-895a-46a0-a9e1-159fb77d0630",
   "metadata": {},
   "outputs": [
    {
     "data": {
      "text/plain": [
       "np.int64(930)"
      ]
     },
     "execution_count": 17,
     "metadata": {},
     "output_type": "execute_result"
    }
   ],
   "source": [
    "df['Date_TF'].isnull().sum()"
   ]
  },
  {
   "cell_type": "code",
   "execution_count": 18,
   "id": "ba24cc67-da29-4e71-9b7c-841609571178",
   "metadata": {},
   "outputs": [],
   "source": [
    "df_cleaned = df.copy()"
   ]
  },
  {
   "cell_type": "code",
   "execution_count": 19,
   "id": "6a7e4cab-5371-47e2-8011-98a7c85c34c0",
   "metadata": {},
   "outputs": [],
   "source": [
    "df_cleaned.columns = df_cleaned.columns.str.strip()"
   ]
  },
  {
   "cell_type": "code",
   "execution_count": 20,
   "id": "d5aaf09d-9174-4450-a5d8-d8ca17d19993",
   "metadata": {},
   "outputs": [
    {
     "data": {
      "text/plain": [
       "['Societe',\n",
       " 'BU',\n",
       " 'Ville',\n",
       " 'Programme',\n",
       " 'Bien',\n",
       " 'Nature',\n",
       " 'Sup_Totale',\n",
       " 'Date_TF',\n",
       " 'Date_Reservation',\n",
       " 'Date_Concretisation',\n",
       " 'Date_Verif',\n",
       " 'Reliquat',\n",
       " 'Solde',\n",
       " 'CA',\n",
       " 'Vendu_Par',\n",
       " 'Annee_declaration',\n",
       " 'Type_Contrat',\n",
       " 'TYP PROJET',\n",
       " 'MARGE',\n",
       " 'STATU',\n",
       " 'REGION']"
      ]
     },
     "execution_count": 20,
     "metadata": {},
     "output_type": "execute_result"
    }
   ],
   "source": [
    "list(df_cleaned.columns)"
   ]
  },
  {
   "cell_type": "code",
   "execution_count": 21,
   "id": "84b02783-065b-4a58-88de-40b10a17f819",
   "metadata": {},
   "outputs": [
    {
     "data": {
      "text/plain": [
       "0        340,000.00 \n",
       "1        604,800.00 \n",
       "2        330,000.00 \n",
       "3        360,000.00 \n",
       "4      1,195,200.00 \n",
       "5        873,800.00 \n",
       "6        651,100.00 \n",
       "7        360,000.00 \n",
       "8        711,000.00 \n",
       "9        678,600.00 \n",
       "10       725,400.00 \n",
       "11       900,000.00 \n",
       "12       534,600.00 \n",
       "13       934,200.00 \n",
       "14       730,000.00 \n",
       "15       156,000.00 \n",
       "16       625,000.00 \n",
       "17       360,000.00 \n",
       "18       156,000.00 \n",
       "19       925,200.00 \n",
       "20       385,000.00 \n",
       "21    -2,335,454.75 \n",
       "22     2,571,121.41 \n",
       "23    -2,463,392.75 \n",
       "24     2,363,392.73 \n",
       "Name: CA, dtype: object"
      ]
     },
     "execution_count": 21,
     "metadata": {},
     "output_type": "execute_result"
    }
   ],
   "source": [
    "df_cleaned['CA'].head(25)"
   ]
  },
  {
   "cell_type": "code",
   "execution_count": 22,
   "id": "eef7f58a-9053-4422-873f-6f085a2b95e8",
   "metadata": {},
   "outputs": [],
   "source": [
    "df_cleaned['CA'] = df_cleaned['CA'].astype(str)\n",
    "df_cleaned['CA'] = df_cleaned['CA'].str.replace('- ', '-')\n",
    "df_cleaned['CA'] = df_cleaned['CA'].str.replace(',','')\n",
    "df_cleaned['CA'] = pd.to_numeric(df_cleaned['CA'], errors= 'coerce')\n",
    "df_cleaned = df_cleaned.dropna(subset=['CA'])"
   ]
  },
  {
   "cell_type": "code",
   "execution_count": 23,
   "id": "eb4108b1-b9c3-4d4f-a6d4-b7079b75224c",
   "metadata": {},
   "outputs": [
    {
     "data": {
      "text/plain": [
       "0      340000.00\n",
       "1      604800.00\n",
       "2      330000.00\n",
       "3      360000.00\n",
       "4     1195200.00\n",
       "5      873800.00\n",
       "6      651100.00\n",
       "7      360000.00\n",
       "8      711000.00\n",
       "9      678600.00\n",
       "10     725400.00\n",
       "11     900000.00\n",
       "12     534600.00\n",
       "13     934200.00\n",
       "14     730000.00\n",
       "15     156000.00\n",
       "16     625000.00\n",
       "17     360000.00\n",
       "18     156000.00\n",
       "19     925200.00\n",
       "20     385000.00\n",
       "21   -2335454.75\n",
       "22    2571121.41\n",
       "23   -2463392.75\n",
       "24    2363392.73\n",
       "Name: CA, dtype: float64"
      ]
     },
     "execution_count": 23,
     "metadata": {},
     "output_type": "execute_result"
    }
   ],
   "source": [
    "df_cleaned['CA'].head(25)"
   ]
  },
  {
   "cell_type": "code",
   "execution_count": 24,
   "id": "7dba4f41-80bd-491a-a0d3-2d37cf861a9b",
   "metadata": {},
   "outputs": [
    {
     "data": {
      "text/plain": [
       "0         68,000.00 \n",
       "1        181,440.00 \n",
       "2         66,000.00 \n",
       "3        108,000.00 \n",
       "4        478,080.00 \n",
       "5        262,140.00 \n",
       "6        195,330.00 \n",
       "7        108,000.00 \n",
       "8        213,300.00 \n",
       "9        203,580.00 \n",
       "10       217,620.00 \n",
       "11       270,000.00 \n",
       "12       160,380.00 \n",
       "13       373,680.00 \n",
       "14       219,000.00 \n",
       "15        31,200.00 \n",
       "16       187,500.00 \n",
       "17       108,000.00 \n",
       "18        31,200.00 \n",
       "19       370,080.00 \n",
       "20       115,500.00 \n",
       "21              -   \n",
       "22     1,028,448.56 \n",
       "23              -   \n",
       "24       945,357.09 \n",
       "Name: MARGE, dtype: object"
      ]
     },
     "execution_count": 24,
     "metadata": {},
     "output_type": "execute_result"
    }
   ],
   "source": [
    "df_cleaned['MARGE'].head(25)"
   ]
  },
  {
   "cell_type": "code",
   "execution_count": 25,
   "id": "48b33d02-d436-4898-87fc-e5cc5c49fb3d",
   "metadata": {},
   "outputs": [],
   "source": [
    "df_cleaned['MARGE'] = df_cleaned['MARGE'].astype(str)\n",
    "df_cleaned['MARGE'] = df_cleaned['MARGE'].str.replace(',','')\n",
    "df_cleaned['MARGE'] = pd.to_numeric(df_cleaned['MARGE'], errors= 'coerce')"
   ]
  },
  {
   "cell_type": "code",
   "execution_count": 26,
   "id": "340499cb-2ef5-4bbf-b32b-f967335032e6",
   "metadata": {},
   "outputs": [
    {
     "data": {
      "text/plain": [
       "0       68000.00\n",
       "1      181440.00\n",
       "2       66000.00\n",
       "3      108000.00\n",
       "4      478080.00\n",
       "5      262140.00\n",
       "6      195330.00\n",
       "7      108000.00\n",
       "8      213300.00\n",
       "9      203580.00\n",
       "10     217620.00\n",
       "11     270000.00\n",
       "12     160380.00\n",
       "13     373680.00\n",
       "14     219000.00\n",
       "15      31200.00\n",
       "16     187500.00\n",
       "17     108000.00\n",
       "18      31200.00\n",
       "19     370080.00\n",
       "20     115500.00\n",
       "21           NaN\n",
       "22    1028448.56\n",
       "23           NaN\n",
       "24     945357.09\n",
       "Name: MARGE, dtype: float64"
      ]
     },
     "execution_count": 26,
     "metadata": {},
     "output_type": "execute_result"
    }
   ],
   "source": [
    "df_cleaned['MARGE'].head(25)"
   ]
  },
  {
   "cell_type": "code",
   "execution_count": 27,
   "id": "c0dca23e-b215-4293-8f84-4d9d6c52ec85",
   "metadata": {},
   "outputs": [],
   "source": [
    "date_cols = ['Date_TF', 'Date_Reservation', 'Date_Concretisation', 'Date_Verif']\n",
    "for col in date_cols:\n",
    "    df_cleaned[col] = pd.to_datetime(df[col], errors = 'coerce')"
   ]
  },
  {
   "cell_type": "code",
   "execution_count": 28,
   "id": "e617918e-b439-4900-ad19-bbfaa8daa6af",
   "metadata": {},
   "outputs": [
    {
     "data": {
      "text/plain": [
       "0          NaT\n",
       "1   2018-06-30\n",
       "2          NaT\n",
       "3          NaT\n",
       "4   2017-06-30\n",
       "Name: Date_TF, dtype: datetime64[ns]"
      ]
     },
     "execution_count": 28,
     "metadata": {},
     "output_type": "execute_result"
    }
   ],
   "source": [
    "df_cleaned['Date_TF'].head()"
   ]
  },
  {
   "cell_type": "code",
   "execution_count": 29,
   "id": "3c84ad77-b9ee-4b07-a670-8648e39c47e3",
   "metadata": {},
   "outputs": [
    {
     "data": {
      "text/plain": [
       "Societe                  1\n",
       "BU                       1\n",
       "Ville                    1\n",
       "Programme                1\n",
       "Bien                     1\n",
       "Nature                   1\n",
       "Sup_Totale               1\n",
       "Date_TF                930\n",
       "Date_Reservation       138\n",
       "Date_Concretisation    151\n",
       "Date_Verif               1\n",
       "Reliquat               138\n",
       "Solde                    1\n",
       "CA                       0\n",
       "Vendu_Par              138\n",
       "Annee_declaration        1\n",
       "Type_Contrat             1\n",
       "TYP PROJET               1\n",
       "MARGE                  440\n",
       "STATU                    1\n",
       "REGION                   1\n",
       "dtype: int64"
      ]
     },
     "execution_count": 29,
     "metadata": {},
     "output_type": "execute_result"
    }
   ],
   "source": [
    "df_cleaned.isnull().sum()"
   ]
  },
  {
   "cell_type": "code",
   "execution_count": 30,
   "id": "5a879943-35a2-481d-b1b8-b42ffeb35cfd",
   "metadata": {},
   "outputs": [],
   "source": [
    "df_cleaned['Date_TF'] = df_cleaned['Date_TF'].ffill()"
   ]
  },
  {
   "cell_type": "code",
   "execution_count": 31,
   "id": "2706bfa5-a2d0-4f82-a606-bc23204b12fb",
   "metadata": {},
   "outputs": [],
   "source": [
    "df_cleaned['Date_Reservation'] = df_cleaned['Date_Reservation'].ffill()"
   ]
  },
  {
   "cell_type": "code",
   "execution_count": 32,
   "id": "611cdccd-369d-4d38-9ff9-5149d50cd70f",
   "metadata": {},
   "outputs": [],
   "source": [
    "df_cleaned['Date_Concretisation'] = df_cleaned['Date_Concretisation'].ffill()"
   ]
  },
  {
   "cell_type": "code",
   "execution_count": 33,
   "id": "99866872-f3f4-4f5c-8a65-be891e3d5179",
   "metadata": {},
   "outputs": [
    {
     "data": {
      "text/plain": [
       "np.int64(1)"
      ]
     },
     "execution_count": 33,
     "metadata": {},
     "output_type": "execute_result"
    }
   ],
   "source": [
    "df_cleaned['Date_TF'].isnull().sum()"
   ]
  },
  {
   "cell_type": "code",
   "execution_count": 34,
   "id": "638afb85-0d0d-44e5-bd0b-5997060fb041",
   "metadata": {},
   "outputs": [
    {
     "data": {
      "text/plain": [
       "Societe                  1\n",
       "BU                       1\n",
       "Ville                    1\n",
       "Programme                1\n",
       "Bien                     1\n",
       "Nature                   1\n",
       "Sup_Totale               1\n",
       "Date_TF                  1\n",
       "Date_Reservation         0\n",
       "Date_Concretisation      0\n",
       "Date_Verif               1\n",
       "Reliquat               138\n",
       "Solde                    1\n",
       "CA                       0\n",
       "Vendu_Par              138\n",
       "Annee_declaration        1\n",
       "Type_Contrat             1\n",
       "TYP PROJET               1\n",
       "MARGE                  440\n",
       "STATU                    1\n",
       "REGION                   1\n",
       "dtype: int64"
      ]
     },
     "execution_count": 34,
     "metadata": {},
     "output_type": "execute_result"
    }
   ],
   "source": [
    "df_cleaned.isnull().sum()"
   ]
  },
  {
   "cell_type": "code",
   "execution_count": 35,
   "id": "5af22aa7-1f41-43f0-85bd-94311c54c9b7",
   "metadata": {},
   "outputs": [],
   "source": [
    "df_cleaned['Reliquat'] = df_cleaned['Reliquat'].fillna(0)"
   ]
  },
  {
   "cell_type": "code",
   "execution_count": 36,
   "id": "8745ae87-eccb-4146-9aa0-fe56f0151e9d",
   "metadata": {},
   "outputs": [],
   "source": [
    "df_cleaned['Vendu_Par'] = df_cleaned['Vendu_Par'].fillna('UNKNOWN')"
   ]
  },
  {
   "cell_type": "code",
   "execution_count": 37,
   "id": "df33a6ef-9277-43c0-a1e9-10874bd88c6f",
   "metadata": {},
   "outputs": [],
   "source": [
    "df_cleaned['MARGE'] = df_cleaned['MARGE'].fillna(df_cleaned['MARGE'].median())"
   ]
  },
  {
   "cell_type": "code",
   "execution_count": 38,
   "id": "9234a9b2-565e-48bb-bd1c-6376de56928f",
   "metadata": {},
   "outputs": [
    {
     "data": {
      "text/plain": [
       "Societe                1\n",
       "BU                     1\n",
       "Ville                  1\n",
       "Programme              1\n",
       "Bien                   1\n",
       "Nature                 1\n",
       "Sup_Totale             1\n",
       "Date_TF                1\n",
       "Date_Reservation       0\n",
       "Date_Concretisation    0\n",
       "Date_Verif             1\n",
       "Reliquat               0\n",
       "Solde                  1\n",
       "CA                     0\n",
       "Vendu_Par              0\n",
       "Annee_declaration      1\n",
       "Type_Contrat           1\n",
       "TYP PROJET             1\n",
       "MARGE                  0\n",
       "STATU                  1\n",
       "REGION                 1\n",
       "dtype: int64"
      ]
     },
     "execution_count": 38,
     "metadata": {},
     "output_type": "execute_result"
    }
   ],
   "source": [
    "df_cleaned.isnull().sum()"
   ]
  },
  {
   "cell_type": "code",
   "execution_count": 39,
   "id": "21cd3519-368f-4ab6-91b7-7f4676c68f80",
   "metadata": {},
   "outputs": [
    {
     "data": {
      "image/png": "[encoded data removed]",
      "text/plain": [
       "<Figure size 1000x600 with 1 Axes>"
      ]
     },
     "metadata": {},
     "output_type": "display_data"
    }
   ],
   "source": [
    "plt.figure(figsize=(10, 6))\n",
    "sns.histplot(df_cleaned['CA'], kde=True, bins=50)\n",
    "plt.title('Distribution de CA')\n",
    "plt.xlabel('CA')\n",
    "plt.ylabel('Frequence')\n",
    "plt.show()"
   ]
  },
  {
   "cell_type": "code",
   "execution_count": 40,
   "id": "cc3220f0-5b3d-49ec-bccc-202dc77b155f",
   "metadata": {},
   "outputs": [
    {
     "data": {
      "image/png": "[encoded data removed]",
      "text/plain": [
       "<Figure size 1000x800 with 2 Axes>"
      ]
     },
     "metadata": {},
     "output_type": "display_data"
    }
   ],
   "source": [
    "plt.figure(figsize=(10,8))\n",
    "numerical_cols = df_cleaned.select_dtypes(include=np.number).columns\n",
    "sns.heatmap(df_cleaned[numerical_cols].corr(), annot=True, cmap='coolwarm', fmt=\".2f\")\n",
    "plt.title('Correlation Heatmap of Numerical Features')\n",
    "plt.show()"
   ]
  },
  {
   "cell_type": "code",
   "execution_count": 41,
   "id": "202c22aa-d524-4682-83db-e6a79b3fc00e",
   "metadata": {},
   "outputs": [
    {
     "data": {
      "image/png": "[encoded data removed]",
      "text/plain": [
       "<Figure size 1800x700 with 2 Axes>"
      ]
     },
     "metadata": {},
     "output_type": "display_data"
    }
   ],
   "source": [
    "fig, axes = plt.subplots(1, 2, figsize=(18, 7))\n",
    "df_cleaned['CA_log'] = np.log1p(df_cleaned['CA'])\n",
    "sns.histplot(data=df_cleaned, x='CA_log', kde=True, ax=axes[0])\n",
    "axes[0].set_title('Log-Transformed Histogram of CA', fontsize=16)\n",
    "axes[0].set_xlabel('Log of CA (Sales)', fontsize=16)\n",
    "axes[0].set_ylabel('Frequency', fontsize=16)\n",
    "\n",
    "sns.violinplot(data=df_cleaned, y='CA', ax=axes[1])\n",
    "axes[1].set_title('Violin Plot of CA', fontsize=16)\n",
    "axes[1].set_ylabel('CA (Sales)', fontsize=12)\n",
    "\n",
    "plt.tight_layout()\n",
    "plt.show()"
   ]
  },
  {
   "cell_type": "code",
   "execution_count": 42,
   "id": "5544e3c7-4071-4e06-9200-8a3ed250b653",
   "metadata": {},
   "outputs": [],
   "source": [
    "df_cleaned['CA_log'] = df_cleaned['CA_log'].fillna(df_cleaned['CA_log'].median())"
   ]
  },
  {
   "cell_type": "code",
   "execution_count": 43,
   "id": "6493db97-f25a-4d3e-a077-0c8ee37118fb",
   "metadata": {},
   "outputs": [
    {
     "data": {
      "text/plain": [
       "np.int64(0)"
      ]
     },
     "execution_count": 43,
     "metadata": {},
     "output_type": "execute_result"
    }
   ],
   "source": [
    "df_cleaned['CA_log'].isnull().sum()"
   ]
  },
  {
   "cell_type": "code",
   "execution_count": 44,
   "id": "07e37fc1-2883-414a-907e-a7cb0966ae1f",
   "metadata": {},
   "outputs": [
    {
     "name": "stdout",
     "output_type": "stream",
     "text": [
      "La Data est preprocessed et split en training et test!\n"
     ]
    }
   ],
   "source": [
    "categorical_features = ['BU', 'Ville', 'Nature', 'TYP PROJET', 'STATU', 'REGION']\n",
    "df_processed = pd.get_dummies(df_cleaned, columns=categorical_features, drop_first=True)\n",
    "\n",
    "X = df_processed.select_dtypes(include=np.number).drop(columns=['CA'])\n",
    "y = df_processed['CA']\n",
    "\n",
    "X_train, X_test, y_train, y_test = train_test_split(X, y, test_size=0.2, random_state=42)\n",
    "\n",
    "print(\"La Data est preprocessed et split en training et test!\")"
   ]
  },
  {
   "cell_type": "code",
   "execution_count": 45,
   "id": "0464e3b1-9b65-4485-8766-e58bfa70fff5",
   "metadata": {},
   "outputs": [
    {
     "data": {
      "text/html": [
       "<style>#sk-container-id-1 {\n",
       "  /* Definition of color scheme common for light and dark mode */\n",
       "  --sklearn-color-text: #000;\n",
       "  --sklearn-color-text-muted: #666;\n",
       "  --sklearn-color-line: gray;\n",
       "  /* Definition of color scheme for unfitted estimators */\n",
       "  --sklearn-color-unfitted-level-0: #fff5e6;\n",
       "  --sklearn-color-unfitted-level-1: #f6e4d2;\n",
       "  --sklearn-color-unfitted-level-2: #ffe0b3;\n",
       "  --sklearn-color-unfitted-level-3: chocolate;\n",
       "  /* Definition of color scheme for fitted estimators */\n",
       "  --sklearn-color-fitted-level-0: #f0f8ff;\n",
       "  --sklearn-color-fitted-level-1: #d4ebff;\n",
       "  --sklearn-color-fitted-level-2: #b3dbfd;\n",
       "  --sklearn-color-fitted-level-3: cornflowerblue;\n",
       "\n",
       "  /* Specific color for light theme */\n",
       "  --sklearn-color-text-on-default-background: var(--sg-text-color, var(--theme-code-foreground, var(--jp-content-font-color1, black)));\n",
       "  --sklearn-color-background: var(--sg-background-color, var(--theme-background, var(--jp-layout-color0, white)));\n",
       "  --sklearn-color-border-box: var(--sg-text-color, var(--theme-code-foreground, var(--jp-content-font-color1, black)));\n",
       "  --sklearn-color-icon: #696969;\n",
       "\n",
       "  @media (prefers-color-scheme: dark) {\n",
       "    /* Redefinition of color scheme for dark theme */\n",
       "    --sklearn-color-text-on-default-background: var(--sg-text-color, var(--theme-code-foreground, var(--jp-content-font-color1, white)));\n",
       "    --sklearn-color-background: var(--sg-background-color, var(--theme-background, var(--jp-layout-color0, #111)));\n",
       "    --sklearn-color-border-box: var(--sg-text-color, var(--theme-code-foreground, var(--jp-content-font-color1, white)));\n",
       "    --sklearn-color-icon: #878787;\n",
       "  }\n",
       "}\n",
       "\n",
       "#sk-container-id-1 {\n",
       "  color: var(--sklearn-color-text);\n",
       "}\n",
       "\n",
       "#sk-container-id-1 pre {\n",
       "  padding: 0;\n",
       "}\n",
       "\n",
       "#sk-container-id-1 input.sk-hidden--visually {\n",
       "  border: 0;\n",
       "  clip: rect(1px 1px 1px 1px);\n",
       "  clip: rect(1px, 1px, 1px, 1px);\n",
       "  height: 1px;\n",
       "  margin: -1px;\n",
       "  overflow: hidden;\n",
       "  padding: 0;\n",
       "  position: absolute;\n",
       "  width: 1px;\n",
       "}\n",
       "\n",
       "#sk-container-id-1 div.sk-dashed-wrapped {\n",
       "  border: 1px dashed var(--sklearn-color-line);\n",
       "  margin: 0 0.4em 0.5em 0.4em;\n",
       "  box-sizing: border-box;\n",
       "  padding-bottom: 0.4em;\n",
       "  background-color: var(--sklearn-color-background);\n",
       "}\n",
       "\n",
       "#sk-container-id-1 div.sk-container {\n",
       "  /* jupyter's `normalize.less` sets `[hidden] { display: none; }`\n",
       "     but bootstrap.min.css set `[hidden] { display: none !important; }`\n",
       "     so we also need the `!important` here to be able to override the\n",
       "     default hidden behavior on the sphinx rendered scikit-learn.org.\n",
       "     See: https://github.com/scikit-learn/scikit-learn/issues/21755 */\n",
       "  display: inline-block !important;\n",
       "  position: relative;\n",
       "}\n",
       "\n",
       "#sk-container-id-1 div.sk-text-repr-fallback {\n",
       "  display: none;\n",
       "}\n",
       "\n",
       "div.sk-parallel-item,\n",
       "div.sk-serial,\n",
       "div.sk-item {\n",
       "  /* draw centered vertical line to link estimators */\n",
       "  background-image: linear-gradient(var(--sklearn-color-text-on-default-background), var(--sklearn-color-text-on-default-background));\n",
       "  background-size: 2px 100%;\n",
       "  background-repeat: no-repeat;\n",
       "  background-position: center center;\n",
       "}\n",
       "\n",
       "/* Parallel-specific style estimator block */\n",
       "\n",
       "#sk-container-id-1 div.sk-parallel-item::after {\n",
       "  content: \"\";\n",
       "  width: 100%;\n",
       "  border-bottom: 2px solid var(--sklearn-color-text-on-default-background);\n",
       "  flex-grow: 1;\n",
       "}\n",
       "\n",
       "#sk-container-id-1 div.sk-parallel {\n",
       "  display: flex;\n",
       "  align-items: stretch;\n",
       "  justify-content: center;\n",
       "  background-color: var(--sklearn-color-background);\n",
       "  position: relative;\n",
       "}\n",
       "\n",
       "#sk-container-id-1 div.sk-parallel-item {\n",
       "  display: flex;\n",
       "  flex-direction: column;\n",
       "}\n",
       "\n",
       "#sk-container-id-1 div.sk-parallel-item:first-child::after {\n",
       "  align-self: flex-end;\n",
       "  width: 50%;\n",
       "}\n",
       "\n",
       "#sk-container-id-1 div.sk-parallel-item:last-child::after {\n",
       "  align-self: flex-start;\n",
       "  width: 50%;\n",
       "}\n",
       "\n",
       "#sk-container-id-1 div.sk-parallel-item:only-child::after {\n",
       "  width: 0;\n",
       "}\n",
       "\n",
       "/* Serial-specific style estimator block */\n",
       "\n",
       "#sk-container-id-1 div.sk-serial {\n",
       "  display: flex;\n",
       "  flex-direction: column;\n",
       "  align-items: center;\n",
       "  background-color: var(--sklearn-color-background);\n",
       "  padding-right: 1em;\n",
       "  padding-left: 1em;\n",
       "}\n",
       "\n",
       "\n",
       "/* Toggleable style: style used for estimator/Pipeline/ColumnTransformer box that is\n",
       "clickable and can be expanded/collapsed.\n",
       "- Pipeline and ColumnTransformer use this feature and define the default style\n",
       "- Estimators will overwrite some part of the style using the `sk-estimator` class\n",
       "*/\n",
       "\n",
       "/* Pipeline and ColumnTransformer style (default) */\n",
       "\n",
       "#sk-container-id-1 div.sk-toggleable {\n",
       "  /* Default theme specific background. It is overwritten whether we have a\n",
       "  specific estimator or a Pipeline/ColumnTransformer */\n",
       "  background-color: var(--sklearn-color-background);\n",
       "}\n",
       "\n",
       "/* Toggleable label */\n",
       "#sk-container-id-1 label.sk-toggleable__label {\n",
       "  cursor: pointer;\n",
       "  display: flex;\n",
       "  width: 100%;\n",
       "  margin-bottom: 0;\n",
       "  padding: 0.5em;\n",
       "  box-sizing: border-box;\n",
       "  text-align: center;\n",
       "  align-items: start;\n",
       "  justify-content: space-between;\n",
       "  gap: 0.5em;\n",
       "}\n",
       "\n",
       "#sk-container-id-1 label.sk-toggleable__label .caption {\n",
       "  font-size: 0.6rem;\n",
       "  font-weight: lighter;\n",
       "  color: var(--sklearn-color-text-muted);\n",
       "}\n",
       "\n",
       "#sk-container-id-1 label.sk-toggleable__label-arrow:before {\n",
       "  /* Arrow on the left of the label */\n",
       "  content: \"▸\";\n",
       "  float: left;\n",
       "  margin-right: 0.25em;\n",
       "  color: var(--sklearn-color-icon);\n",
       "}\n",
       "\n",
       "#sk-container-id-1 label.sk-toggleable__label-arrow:hover:before {\n",
       "  color: var(--sklearn-color-text);\n",
       "}\n",
       "\n",
       "/* Toggleable content - dropdown */\n",
       "\n",
       "#sk-container-id-1 div.sk-toggleable__content {\n",
       "  max-height: 0;\n",
       "  max-width: 0;\n",
       "  overflow: hidden;\n",
       "  text-align: left;\n",
       "  /* unfitted */\n",
       "  background-color: var(--sklearn-color-unfitted-level-0);\n",
       "}\n",
       "\n",
       "#sk-container-id-1 div.sk-toggleable__content.fitted {\n",
       "  /* fitted */\n",
       "  background-color: var(--sklearn-color-fitted-level-0);\n",
       "}\n",
       "\n",
       "#sk-container-id-1 div.sk-toggleable__content pre {\n",
       "  margin: 0.2em;\n",
       "  border-radius: 0.25em;\n",
       "  color: var(--sklearn-color-text);\n",
       "  /* unfitted */\n",
       "  background-color: var(--sklearn-color-unfitted-level-0);\n",
       "}\n",
       "\n",
       "#sk-container-id-1 div.sk-toggleable__content.fitted pre {\n",
       "  /* unfitted */\n",
       "  background-color: var(--sklearn-color-fitted-level-0);\n",
       "}\n",
       "\n",
       "#sk-container-id-1 input.sk-toggleable__control:checked~div.sk-toggleable__content {\n",
       "  /* Expand drop-down */\n",
       "  max-height: 200px;\n",
       "  max-width: 100%;\n",
       "  overflow: auto;\n",
       "}\n",
       "\n",
       "#sk-container-id-1 input.sk-toggleable__control:checked~label.sk-toggleable__label-arrow:before {\n",
       "  content: \"▾\";\n",
       "}\n",
       "\n",
       "/* Pipeline/ColumnTransformer-specific style */\n",
       "\n",
       "#sk-container-id-1 div.sk-label input.sk-toggleable__control:checked~label.sk-toggleable__label {\n",
       "  color: var(--sklearn-color-text);\n",
       "  background-color: var(--sklearn-color-unfitted-level-2);\n",
       "}\n",
       "\n",
       "#sk-container-id-1 div.sk-label.fitted input.sk-toggleable__control:checked~label.sk-toggleable__label {\n",
       "  background-color: var(--sklearn-color-fitted-level-2);\n",
       "}\n",
       "\n",
       "/* Estimator-specific style */\n",
       "\n",
       "/* Colorize estimator box */\n",
       "#sk-container-id-1 div.sk-estimator input.sk-toggleable__control:checked~label.sk-toggleable__label {\n",
       "  /* unfitted */\n",
       "  background-color: var(--sklearn-color-unfitted-level-2);\n",
       "}\n",
       "\n",
       "#sk-container-id-1 div.sk-estimator.fitted input.sk-toggleable__control:checked~label.sk-toggleable__label {\n",
       "  /* fitted */\n",
       "  background-color: var(--sklearn-color-fitted-level-2);\n",
       "}\n",
       "\n",
       "#sk-container-id-1 div.sk-label label.sk-toggleable__label,\n",
       "#sk-container-id-1 div.sk-label label {\n",
       "  /* The background is the default theme color */\n",
       "  color: var(--sklearn-color-text-on-default-background);\n",
       "}\n",
       "\n",
       "/* On hover, darken the color of the background */\n",
       "#sk-container-id-1 div.sk-label:hover label.sk-toggleable__label {\n",
       "  color: var(--sklearn-color-text);\n",
       "  background-color: var(--sklearn-color-unfitted-level-2);\n",
       "}\n",
       "\n",
       "/* Label box, darken color on hover, fitted */\n",
       "#sk-container-id-1 div.sk-label.fitted:hover label.sk-toggleable__label.fitted {\n",
       "  color: var(--sklearn-color-text);\n",
       "  background-color: var(--sklearn-color-fitted-level-2);\n",
       "}\n",
       "\n",
       "/* Estimator label */\n",
       "\n",
       "#sk-container-id-1 div.sk-label label {\n",
       "  font-family: monospace;\n",
       "  font-weight: bold;\n",
       "  display: inline-block;\n",
       "  line-height: 1.2em;\n",
       "}\n",
       "\n",
       "#sk-container-id-1 div.sk-label-container {\n",
       "  text-align: center;\n",
       "}\n",
       "\n",
       "/* Estimator-specific */\n",
       "#sk-container-id-1 div.sk-estimator {\n",
       "  font-family: monospace;\n",
       "  border: 1px dotted var(--sklearn-color-border-box);\n",
       "  border-radius: 0.25em;\n",
       "  box-sizing: border-box;\n",
       "  margin-bottom: 0.5em;\n",
       "  /* unfitted */\n",
       "  background-color: var(--sklearn-color-unfitted-level-0);\n",
       "}\n",
       "\n",
       "#sk-container-id-1 div.sk-estimator.fitted {\n",
       "  /* fitted */\n",
       "  background-color: var(--sklearn-color-fitted-level-0);\n",
       "}\n",
       "\n",
       "/* on hover */\n",
       "#sk-container-id-1 div.sk-estimator:hover {\n",
       "  /* unfitted */\n",
       "  background-color: var(--sklearn-color-unfitted-level-2);\n",
       "}\n",
       "\n",
       "#sk-container-id-1 div.sk-estimator.fitted:hover {\n",
       "  /* fitted */\n",
       "  background-color: var(--sklearn-color-fitted-level-2);\n",
       "}\n",
       "\n",
       "/* Specification for estimator info (e.g. \"i\" and \"?\") */\n",
       "\n",
       "/* Common style for \"i\" and \"?\" */\n",
       "\n",
       ".sk-estimator-doc-link,\n",
       "a:link.sk-estimator-doc-link,\n",
       "a:visited.sk-estimator-doc-link {\n",
       "  float: right;\n",
       "  font-size: smaller;\n",
       "  line-height: 1em;\n",
       "  font-family: monospace;\n",
       "  background-color: var(--sklearn-color-background);\n",
       "  border-radius: 1em;\n",
       "  height: 1em;\n",
       "  width: 1em;\n",
       "  text-decoration: none !important;\n",
       "  margin-left: 0.5em;\n",
       "  text-align: center;\n",
       "  /* unfitted */\n",
       "  border: var(--sklearn-color-unfitted-level-1) 1pt solid;\n",
       "  color: var(--sklearn-color-unfitted-level-1);\n",
       "}\n",
       "\n",
       ".sk-estimator-doc-link.fitted,\n",
       "a:link.sk-estimator-doc-link.fitted,\n",
       "a:visited.sk-estimator-doc-link.fitted {\n",
       "  /* fitted */\n",
       "  border: var(--sklearn-color-fitted-level-1) 1pt solid;\n",
       "  color: var(--sklearn-color-fitted-level-1);\n",
       "}\n",
       "\n",
       "/* On hover */\n",
       "div.sk-estimator:hover .sk-estimator-doc-link:hover,\n",
       ".sk-estimator-doc-link:hover,\n",
       "div.sk-label-container:hover .sk-estimator-doc-link:hover,\n",
       ".sk-estimator-doc-link:hover {\n",
       "  /* unfitted */\n",
       "  background-color: var(--sklearn-color-unfitted-level-3);\n",
       "  color: var(--sklearn-color-background);\n",
       "  text-decoration: none;\n",
       "}\n",
       "\n",
       "div.sk-estimator.fitted:hover .sk-estimator-doc-link.fitted:hover,\n",
       ".sk-estimator-doc-link.fitted:hover,\n",
       "div.sk-label-container:hover .sk-estimator-doc-link.fitted:hover,\n",
       ".sk-estimator-doc-link.fitted:hover {\n",
       "  /* fitted */\n",
       "  background-color: var(--sklearn-color-fitted-level-3);\n",
       "  color: var(--sklearn-color-background);\n",
       "  text-decoration: none;\n",
       "}\n",
       "\n",
       "/* Span, style for the box shown on hovering the info icon */\n",
       ".sk-estimator-doc-link span {\n",
       "  display: none;\n",
       "  z-index: 9999;\n",
       "  position: relative;\n",
       "  font-weight: normal;\n",
       "  right: .2ex;\n",
       "  padding: .5ex;\n",
       "  margin: .5ex;\n",
       "  width: min-content;\n",
       "  min-width: 20ex;\n",
       "  max-width: 50ex;\n",
       "  color: var(--sklearn-color-text);\n",
       "  box-shadow: 2pt 2pt 4pt #999;\n",
       "  /* unfitted */\n",
       "  background: var(--sklearn-color-unfitted-level-0);\n",
       "  border: .5pt solid var(--sklearn-color-unfitted-level-3);\n",
       "}\n",
       "\n",
       ".sk-estimator-doc-link.fitted span {\n",
       "  /* fitted */\n",
       "  background: var(--sklearn-color-fitted-level-0);\n",
       "  border: var(--sklearn-color-fitted-level-3);\n",
       "}\n",
       "\n",
       ".sk-estimator-doc-link:hover span {\n",
       "  display: block;\n",
       "}\n",
       "\n",
       "/* \"?\"-specific style due to the `<a>` HTML tag */\n",
       "\n",
       "#sk-container-id-1 a.estimator_doc_link {\n",
       "  float: right;\n",
       "  font-size: 1rem;\n",
       "  line-height: 1em;\n",
       "  font-family: monospace;\n",
       "  background-color: var(--sklearn-color-background);\n",
       "  border-radius: 1rem;\n",
       "  height: 1rem;\n",
       "  width: 1rem;\n",
       "  text-decoration: none;\n",
       "  /* unfitted */\n",
       "  color: var(--sklearn-color-unfitted-level-1);\n",
       "  border: var(--sklearn-color-unfitted-level-1) 1pt solid;\n",
       "}\n",
       "\n",
       "#sk-container-id-1 a.estimator_doc_link.fitted {\n",
       "  /* fitted */\n",
       "  border: var(--sklearn-color-fitted-level-1) 1pt solid;\n",
       "  color: var(--sklearn-color-fitted-level-1);\n",
       "}\n",
       "\n",
       "/* On hover */\n",
       "#sk-container-id-1 a.estimator_doc_link:hover {\n",
       "  /* unfitted */\n",
       "  background-color: var(--sklearn-color-unfitted-level-3);\n",
       "  color: var(--sklearn-color-background);\n",
       "  text-decoration: none;\n",
       "}\n",
       "\n",
       "#sk-container-id-1 a.estimator_doc_link.fitted:hover {\n",
       "  /* fitted */\n",
       "  background-color: var(--sklearn-color-fitted-level-3);\n",
       "}\n",
       "</style><div id=\"sk-container-id-1\" class=\"sk-top-container\"><div class=\"sk-text-repr-fallback\"><pre>XGBRegressor(base_score=None, booster=None, callbacks=None,\n",
       "             colsample_bylevel=None, colsample_bynode=None,\n",
       "             colsample_bytree=0.8, device=None, early_stopping_rounds=None,\n",
       "             enable_categorical=False, eval_metric=None, feature_types=None,\n",
       "             feature_weights=None, gamma=0, grow_policy=None,\n",
       "             importance_type=None, interaction_constraints=None,\n",
       "             learning_rate=0.05, max_bin=None, max_cat_threshold=None,\n",
       "             max_cat_to_onehot=None, max_delta_step=None, max_depth=5,\n",
       "             max_leaves=None, min_child_weight=1, missing=nan,\n",
       "             monotone_constraints=None, multi_strategy=None, n_estimators=1000,\n",
       "             n_jobs=-1, num_parallel_tree=None, ...)</pre><b>In a Jupyter environment, please rerun this cell to show the HTML representation or trust the notebook. <br />On GitHub, the HTML representation is unable to render, please try loading this page with nbviewer.org.</b></div><div class=\"sk-container\" hidden><div class=\"sk-item\"><div class=\"sk-estimator fitted sk-toggleable\"><input class=\"sk-toggleable__control sk-hidden--visually\" id=\"sk-estimator-id-1\" type=\"checkbox\" checked><label for=\"sk-estimator-id-1\" class=\"sk-toggleable__label fitted sk-toggleable__label-arrow\"><div><div>XGBRegressor</div></div><div><a class=\"sk-estimator-doc-link fitted\" rel=\"noreferrer\" target=\"_blank\" href=\"https://xgboost.readthedocs.io/en/release_3.0.0/python/python_api.html#xgboost.XGBRegressor\">?<span>Documentation for XGBRegressor</span></a><span class=\"sk-estimator-doc-link fitted\">i<span>Fitted</span></span></div></label><div class=\"sk-toggleable__content fitted\"><pre>XGBRegressor(base_score=None, booster=None, callbacks=None,\n",
       "             colsample_bylevel=None, colsample_bynode=None,\n",
       "             colsample_bytree=0.8, device=None, early_stopping_rounds=None,\n",
       "             enable_categorical=False, eval_metric=None, feature_types=None,\n",
       "             feature_weights=None, gamma=0, grow_policy=None,\n",
       "             importance_type=None, interaction_constraints=None,\n",
       "             learning_rate=0.05, max_bin=None, max_cat_threshold=None,\n",
       "             max_cat_to_onehot=None, max_delta_step=None, max_depth=5,\n",
       "             max_leaves=None, min_child_weight=1, missing=nan,\n",
       "             monotone_constraints=None, multi_strategy=None, n_estimators=1000,\n",
       "             n_jobs=-1, num_parallel_tree=None, ...)</pre></div> </div></div></div></div>"
      ],
      "text/plain": [
       "XGBRegressor(base_score=None, booster=None, callbacks=None,\n",
       "             colsample_bylevel=None, colsample_bynode=None,\n",
       "             colsample_bytree=0.8, device=None, early_stopping_rounds=None,\n",
       "             enable_categorical=False, eval_metric=None, feature_types=None,\n",
       "             feature_weights=None, gamma=0, grow_policy=None,\n",
       "             importance_type=None, interaction_constraints=None,\n",
       "             learning_rate=0.05, max_bin=None, max_cat_threshold=None,\n",
       "             max_cat_to_onehot=None, max_delta_step=None, max_depth=5,\n",
       "             max_leaves=None, min_child_weight=1, missing=nan,\n",
       "             monotone_constraints=None, multi_strategy=None, n_estimators=1000,\n",
       "             n_jobs=-1, num_parallel_tree=None, ...)"
      ]
     },
     "execution_count": 45,
     "metadata": {},
     "output_type": "execute_result"
    }
   ],
   "source": [
    "xgbr = xgb.XGBRegressor(objective='reg:squarederror',\n",
    "                        n_estimators=1000,\n",
    "                        learning_rate=0.05,\n",
    "                        max_depth=5,\n",
    "                        min_child_weight=1,\n",
    "                        gamma=0,\n",
    "                        subsample=0.8,\n",
    "                        colsample_bytree=0.8,\n",
    "                        reg_alpha=0.005,\n",
    "                        random_state=42,\n",
    "                        n_jobs=-1)\n",
    "\n",
    "xgbr.fit(X_train, y_train)"
   ]
  },
  {
   "cell_type": "code",
   "execution_count": 46,
   "id": "f9bd1836-b32e-43dd-9b5c-08f647fd870f",
   "metadata": {},
   "outputs": [
    {
     "name": "stdout",
     "output_type": "stream",
     "text": [
      "Root Mean Squared Error (RMSE): 98474599.13042939\n",
      "R-squared: -0.008105441122046697\n"
     ]
    }
   ],
   "source": [
    "y_pred = xgbr.predict(X_test)\n",
    "\n",
    "rmse = np.sqrt(mean_squared_error(y_test, y_pred))\n",
    "r2 = r2_score(y_test, y_pred)\n",
    "\n",
    "print(f\"Root Mean Squared Error (RMSE): {rmse}\")\n",
    "print(f\"R-squared: {r2}\")"
   ]
  },
  {
   "cell_type": "code",
   "execution_count": 47,
   "id": "41b8cf8d-387f-4c3e-9473-e8cfdb18bcc9",
   "metadata": {},
   "outputs": [
    {
     "data": {
      "image/png": "[encoded data removed]",
      "text/plain": [
       "<Figure size 1000x600 with 1 Axes>"
      ]
     },
     "metadata": {},
     "output_type": "display_data"
    }
   ],
   "source": [
    "plt.figure(figsize=(10, 6))\n",
    "plt.scatter(y_test, y_pred, alpha=0.5)\n",
    "plt.plot([y_test.min(), y_test.max()], [y_test.min(), y_test.max()], 'r--', lw=2)\n",
    "plt.xlabel(\"Actual CA\")\n",
    "plt.ylabel(\"Predicted CA\")\n",
    "plt.title(\"Actual vs Predicted CA\")\n",
    "plt.show()"
   ]
  },
  {
   "cell_type": "code",
   "execution_count": 48,
   "id": "e6a2fa49-0401-4eb8-a8d1-0d7ff2d8cea4",
   "metadata": {},
   "outputs": [
    {
     "data": {
      "text/plain": [
       "<Figure size 1200x1000 with 0 Axes>"
      ]
     },
     "metadata": {},
     "output_type": "display_data"
    },
    {
     "data": {
      "image/png": "[encoded data removed]",
      "text/plain": [
       "<Figure size 640x480 with 1 Axes>"
      ]
     },
     "metadata": {},
     "output_type": "display_data"
    }
   ],
   "source": [
    "plt.figure(figsize=(12, 10))\n",
    "xgb.plot_importance(xgbr, max_num_features=20)\n",
    "plt.title('Feature Importance')\n",
    "plt.tight_layout()\n",
    "plt.show()"
   ]
  },
  {
   "cell_type": "code",
   "execution_count": 49,
   "id": "7ec301a8-2abd-48e7-b6c1-30b28a2c58a8",
   "metadata": {},
   "outputs": [],
   "source": [
    "df_cleaned.to_csv('Doha(cleaned).csv', encoding = 'latin-1' , index = False)\n",
    "#saving the dataframe to view in excel "
   ]
  },
  {
   "cell_type": "code",
   "execution_count": 50,
   "id": "cd0f81b5-f59c-4e41-be6b-5c3bfd4c0214",
   "metadata": {},
   "outputs": [],
   "source": [
    "#df_cleaned.head()"
   ]
  },
  {
   "cell_type": "code",
   "execution_count": 55,
   "id": "8656ecc2-49ac-45d4-b575-291b4b1e07aa",
   "metadata": {},
   "outputs": [],
   "source": [
    "linreg_pipeline = Pipeline([\n",
    "    ('imputer', SimpleImputer(strategy = 'mean')),\n",
    "    ('regressor', LinearRegression())\n",
    "])"
   ]
  },
  {
   "cell_type": "code",
   "execution_count": 56,
   "id": "48c40049-fb29-4f1b-8b96-9ed2bb7b57b8",
   "metadata": {},
   "outputs": [
    {
     "data": {
      "text/html": [
       "<style>#sk-container-id-2 {\n",
       "  /* Definition of color scheme common for light and dark mode */\n",
       "  --sklearn-color-text: #000;\n",
       "  --sklearn-color-text-muted: #666;\n",
       "  --sklearn-color-line: gray;\n",
       "  /* Definition of color scheme for unfitted estimators */\n",
       "  --sklearn-color-unfitted-level-0: #fff5e6;\n",
       "  --sklearn-color-unfitted-level-1: #f6e4d2;\n",
       "  --sklearn-color-unfitted-level-2: #ffe0b3;\n",
       "  --sklearn-color-unfitted-level-3: chocolate;\n",
       "  /* Definition of color scheme for fitted estimators */\n",
       "  --sklearn-color-fitted-level-0: #f0f8ff;\n",
       "  --sklearn-color-fitted-level-1: #d4ebff;\n",
       "  --sklearn-color-fitted-level-2: #b3dbfd;\n",
       "  --sklearn-color-fitted-level-3: cornflowerblue;\n",
       "\n",
       "  /* Specific color for light theme */\n",
       "  --sklearn-color-text-on-default-background: var(--sg-text-color, var(--theme-code-foreground, var(--jp-content-font-color1, black)));\n",
       "  --sklearn-color-background: var(--sg-background-color, var(--theme-background, var(--jp-layout-color0, white)));\n",
       "  --sklearn-color-border-box: var(--sg-text-color, var(--theme-code-foreground, var(--jp-content-font-color1, black)));\n",
       "  --sklearn-color-icon: #696969;\n",
       "\n",
       "  @media (prefers-color-scheme: dark) {\n",
       "    /* Redefinition of color scheme for dark theme */\n",
       "    --sklearn-color-text-on-default-background: var(--sg-text-color, var(--theme-code-foreground, var(--jp-content-font-color1, white)));\n",
       "    --sklearn-color-background: var(--sg-background-color, var(--theme-background, var(--jp-layout-color0, #111)));\n",
       "    --sklearn-color-border-box: var(--sg-text-color, var(--theme-code-foreground, var(--jp-content-font-color1, white)));\n",
       "    --sklearn-color-icon: #878787;\n",
       "  }\n",
       "}\n",
       "\n",
       "#sk-container-id-2 {\n",
       "  color: var(--sklearn-color-text);\n",
       "}\n",
       "\n",
       "#sk-container-id-2 pre {\n",
       "  padding: 0;\n",
       "}\n",
       "\n",
       "#sk-container-id-2 input.sk-hidden--visually {\n",
       "  border: 0;\n",
       "  clip: rect(1px 1px 1px 1px);\n",
       "  clip: rect(1px, 1px, 1px, 1px);\n",
       "  height: 1px;\n",
       "  margin: -1px;\n",
       "  overflow: hidden;\n",
       "  padding: 0;\n",
       "  position: absolute;\n",
       "  width: 1px;\n",
       "}\n",
       "\n",
       "#sk-container-id-2 div.sk-dashed-wrapped {\n",
       "  border: 1px dashed var(--sklearn-color-line);\n",
       "  margin: 0 0.4em 0.5em 0.4em;\n",
       "  box-sizing: border-box;\n",
       "  padding-bottom: 0.4em;\n",
       "  background-color: var(--sklearn-color-background);\n",
       "}\n",
       "\n",
       "#sk-container-id-2 div.sk-container {\n",
       "  /* jupyter's `normalize.less` sets `[hidden] { display: none; }`\n",
       "     but bootstrap.min.css set `[hidden] { display: none !important; }`\n",
       "     so we also need the `!important` here to be able to override the\n",
       "     default hidden behavior on the sphinx rendered scikit-learn.org.\n",
       "     See: https://github.com/scikit-learn/scikit-learn/issues/21755 */\n",
       "  display: inline-block !important;\n",
       "  position: relative;\n",
       "}\n",
       "\n",
       "#sk-container-id-2 div.sk-text-repr-fallback {\n",
       "  display: none;\n",
       "}\n",
       "\n",
       "div.sk-parallel-item,\n",
       "div.sk-serial,\n",
       "div.sk-item {\n",
       "  /* draw centered vertical line to link estimators */\n",
       "  background-image: linear-gradient(var(--sklearn-color-text-on-default-background), var(--sklearn-color-text-on-default-background));\n",
       "  background-size: 2px 100%;\n",
       "  background-repeat: no-repeat;\n",
       "  background-position: center center;\n",
       "}\n",
       "\n",
       "/* Parallel-specific style estimator block */\n",
       "\n",
       "#sk-container-id-2 div.sk-parallel-item::after {\n",
       "  content: \"\";\n",
       "  width: 100%;\n",
       "  border-bottom: 2px solid var(--sklearn-color-text-on-default-background);\n",
       "  flex-grow: 1;\n",
       "}\n",
       "\n",
       "#sk-container-id-2 div.sk-parallel {\n",
       "  display: flex;\n",
       "  align-items: stretch;\n",
       "  justify-content: center;\n",
       "  background-color: var(--sklearn-color-background);\n",
       "  position: relative;\n",
       "}\n",
       "\n",
       "#sk-container-id-2 div.sk-parallel-item {\n",
       "  display: flex;\n",
       "  flex-direction: column;\n",
       "}\n",
       "\n",
       "#sk-container-id-2 div.sk-parallel-item:first-child::after {\n",
       "  align-self: flex-end;\n",
       "  width: 50%;\n",
       "}\n",
       "\n",
       "#sk-container-id-2 div.sk-parallel-item:last-child::after {\n",
       "  align-self: flex-start;\n",
       "  width: 50%;\n",
       "}\n",
       "\n",
       "#sk-container-id-2 div.sk-parallel-item:only-child::after {\n",
       "  width: 0;\n",
       "}\n",
       "\n",
       "/* Serial-specific style estimator block */\n",
       "\n",
       "#sk-container-id-2 div.sk-serial {\n",
       "  display: flex;\n",
       "  flex-direction: column;\n",
       "  align-items: center;\n",
       "  background-color: var(--sklearn-color-background);\n",
       "  padding-right: 1em;\n",
       "  padding-left: 1em;\n",
       "}\n",
       "\n",
       "\n",
       "/* Toggleable style: style used for estimator/Pipeline/ColumnTransformer box that is\n",
       "clickable and can be expanded/collapsed.\n",
       "- Pipeline and ColumnTransformer use this feature and define the default style\n",
       "- Estimators will overwrite some part of the style using the `sk-estimator` class\n",
       "*/\n",
       "\n",
       "/* Pipeline and ColumnTransformer style (default) */\n",
       "\n",
       "#sk-container-id-2 div.sk-toggleable {\n",
       "  /* Default theme specific background. It is overwritten whether we have a\n",
       "  specific estimator or a Pipeline/ColumnTransformer */\n",
       "  background-color: var(--sklearn-color-background);\n",
       "}\n",
       "\n",
       "/* Toggleable label */\n",
       "#sk-container-id-2 label.sk-toggleable__label {\n",
       "  cursor: pointer;\n",
       "  display: flex;\n",
       "  width: 100%;\n",
       "  margin-bottom: 0;\n",
       "  padding: 0.5em;\n",
       "  box-sizing: border-box;\n",
       "  text-align: center;\n",
       "  align-items: start;\n",
       "  justify-content: space-between;\n",
       "  gap: 0.5em;\n",
       "}\n",
       "\n",
       "#sk-container-id-2 label.sk-toggleable__label .caption {\n",
       "  font-size: 0.6rem;\n",
       "  font-weight: lighter;\n",
       "  color: var(--sklearn-color-text-muted);\n",
       "}\n",
       "\n",
       "#sk-container-id-2 label.sk-toggleable__label-arrow:before {\n",
       "  /* Arrow on the left of the label */\n",
       "  content: \"▸\";\n",
       "  float: left;\n",
       "  margin-right: 0.25em;\n",
       "  color: var(--sklearn-color-icon);\n",
       "}\n",
       "\n",
       "#sk-container-id-2 label.sk-toggleable__label-arrow:hover:before {\n",
       "  color: var(--sklearn-color-text);\n",
       "}\n",
       "\n",
       "/* Toggleable content - dropdown */\n",
       "\n",
       "#sk-container-id-2 div.sk-toggleable__content {\n",
       "  max-height: 0;\n",
       "  max-width: 0;\n",
       "  overflow: hidden;\n",
       "  text-align: left;\n",
       "  /* unfitted */\n",
       "  background-color: var(--sklearn-color-unfitted-level-0);\n",
       "}\n",
       "\n",
       "#sk-container-id-2 div.sk-toggleable__content.fitted {\n",
       "  /* fitted */\n",
       "  background-color: var(--sklearn-color-fitted-level-0);\n",
       "}\n",
       "\n",
       "#sk-container-id-2 div.sk-toggleable__content pre {\n",
       "  margin: 0.2em;\n",
       "  border-radius: 0.25em;\n",
       "  color: var(--sklearn-color-text);\n",
       "  /* unfitted */\n",
       "  background-color: var(--sklearn-color-unfitted-level-0);\n",
       "}\n",
       "\n",
       "#sk-container-id-2 div.sk-toggleable__content.fitted pre {\n",
       "  /* unfitted */\n",
       "  background-color: var(--sklearn-color-fitted-level-0);\n",
       "}\n",
       "\n",
       "#sk-container-id-2 input.sk-toggleable__control:checked~div.sk-toggleable__content {\n",
       "  /* Expand drop-down */\n",
       "  max-height: 200px;\n",
       "  max-width: 100%;\n",
       "  overflow: auto;\n",
       "}\n",
       "\n",
       "#sk-container-id-2 input.sk-toggleable__control:checked~label.sk-toggleable__label-arrow:before {\n",
       "  content: \"▾\";\n",
       "}\n",
       "\n",
       "/* Pipeline/ColumnTransformer-specific style */\n",
       "\n",
       "#sk-container-id-2 div.sk-label input.sk-toggleable__control:checked~label.sk-toggleable__label {\n",
       "  color: var(--sklearn-color-text);\n",
       "  background-color: var(--sklearn-color-unfitted-level-2);\n",
       "}\n",
       "\n",
       "#sk-container-id-2 div.sk-label.fitted input.sk-toggleable__control:checked~label.sk-toggleable__label {\n",
       "  background-color: var(--sklearn-color-fitted-level-2);\n",
       "}\n",
       "\n",
       "/* Estimator-specific style */\n",
       "\n",
       "/* Colorize estimator box */\n",
       "#sk-container-id-2 div.sk-estimator input.sk-toggleable__control:checked~label.sk-toggleable__label {\n",
       "  /* unfitted */\n",
       "  background-color: var(--sklearn-color-unfitted-level-2);\n",
       "}\n",
       "\n",
       "#sk-container-id-2 div.sk-estimator.fitted input.sk-toggleable__control:checked~label.sk-toggleable__label {\n",
       "  /* fitted */\n",
       "  background-color: var(--sklearn-color-fitted-level-2);\n",
       "}\n",
       "\n",
       "#sk-container-id-2 div.sk-label label.sk-toggleable__label,\n",
       "#sk-container-id-2 div.sk-label label {\n",
       "  /* The background is the default theme color */\n",
       "  color: var(--sklearn-color-text-on-default-background);\n",
       "}\n",
       "\n",
       "/* On hover, darken the color of the background */\n",
       "#sk-container-id-2 div.sk-label:hover label.sk-toggleable__label {\n",
       "  color: var(--sklearn-color-text);\n",
       "  background-color: var(--sklearn-color-unfitted-level-2);\n",
       "}\n",
       "\n",
       "/* Label box, darken color on hover, fitted */\n",
       "#sk-container-id-2 div.sk-label.fitted:hover label.sk-toggleable__label.fitted {\n",
       "  color: var(--sklearn-color-text);\n",
       "  background-color: var(--sklearn-color-fitted-level-2);\n",
       "}\n",
       "\n",
       "/* Estimator label */\n",
       "\n",
       "#sk-container-id-2 div.sk-label label {\n",
       "  font-family: monospace;\n",
       "  font-weight: bold;\n",
       "  display: inline-block;\n",
       "  line-height: 1.2em;\n",
       "}\n",
       "\n",
       "#sk-container-id-2 div.sk-label-container {\n",
       "  text-align: center;\n",
       "}\n",
       "\n",
       "/* Estimator-specific */\n",
       "#sk-container-id-2 div.sk-estimator {\n",
       "  font-family: monospace;\n",
       "  border: 1px dotted var(--sklearn-color-border-box);\n",
       "  border-radius: 0.25em;\n",
       "  box-sizing: border-box;\n",
       "  margin-bottom: 0.5em;\n",
       "  /* unfitted */\n",
       "  background-color: var(--sklearn-color-unfitted-level-0);\n",
       "}\n",
       "\n",
       "#sk-container-id-2 div.sk-estimator.fitted {\n",
       "  /* fitted */\n",
       "  background-color: var(--sklearn-color-fitted-level-0);\n",
       "}\n",
       "\n",
       "/* on hover */\n",
       "#sk-container-id-2 div.sk-estimator:hover {\n",
       "  /* unfitted */\n",
       "  background-color: var(--sklearn-color-unfitted-level-2);\n",
       "}\n",
       "\n",
       "#sk-container-id-2 div.sk-estimator.fitted:hover {\n",
       "  /* fitted */\n",
       "  background-color: var(--sklearn-color-fitted-level-2);\n",
       "}\n",
       "\n",
       "/* Specification for estimator info (e.g. \"i\" and \"?\") */\n",
       "\n",
       "/* Common style for \"i\" and \"?\" */\n",
       "\n",
       ".sk-estimator-doc-link,\n",
       "a:link.sk-estimator-doc-link,\n",
       "a:visited.sk-estimator-doc-link {\n",
       "  float: right;\n",
       "  font-size: smaller;\n",
       "  line-height: 1em;\n",
       "  font-family: monospace;\n",
       "  background-color: var(--sklearn-color-background);\n",
       "  border-radius: 1em;\n",
       "  height: 1em;\n",
       "  width: 1em;\n",
       "  text-decoration: none !important;\n",
       "  margin-left: 0.5em;\n",
       "  text-align: center;\n",
       "  /* unfitted */\n",
       "  border: var(--sklearn-color-unfitted-level-1) 1pt solid;\n",
       "  color: var(--sklearn-color-unfitted-level-1);\n",
       "}\n",
       "\n",
       ".sk-estimator-doc-link.fitted,\n",
       "a:link.sk-estimator-doc-link.fitted,\n",
       "a:visited.sk-estimator-doc-link.fitted {\n",
       "  /* fitted */\n",
       "  border: var(--sklearn-color-fitted-level-1) 1pt solid;\n",
       "  color: var(--sklearn-color-fitted-level-1);\n",
       "}\n",
       "\n",
       "/* On hover */\n",
       "div.sk-estimator:hover .sk-estimator-doc-link:hover,\n",
       ".sk-estimator-doc-link:hover,\n",
       "div.sk-label-container:hover .sk-estimator-doc-link:hover,\n",
       ".sk-estimator-doc-link:hover {\n",
       "  /* unfitted */\n",
       "  background-color: var(--sklearn-color-unfitted-level-3);\n",
       "  color: var(--sklearn-color-background);\n",
       "  text-decoration: none;\n",
       "}\n",
       "\n",
       "div.sk-estimator.fitted:hover .sk-estimator-doc-link.fitted:hover,\n",
       ".sk-estimator-doc-link.fitted:hover,\n",
       "div.sk-label-container:hover .sk-estimator-doc-link.fitted:hover,\n",
       ".sk-estimator-doc-link.fitted:hover {\n",
       "  /* fitted */\n",
       "  background-color: var(--sklearn-color-fitted-level-3);\n",
       "  color: var(--sklearn-color-background);\n",
       "  text-decoration: none;\n",
       "}\n",
       "\n",
       "/* Span, style for the box shown on hovering the info icon */\n",
       ".sk-estimator-doc-link span {\n",
       "  display: none;\n",
       "  z-index: 9999;\n",
       "  position: relative;\n",
       "  font-weight: normal;\n",
       "  right: .2ex;\n",
       "  padding: .5ex;\n",
       "  margin: .5ex;\n",
       "  width: min-content;\n",
       "  min-width: 20ex;\n",
       "  max-width: 50ex;\n",
       "  color: var(--sklearn-color-text);\n",
       "  box-shadow: 2pt 2pt 4pt #999;\n",
       "  /* unfitted */\n",
       "  background: var(--sklearn-color-unfitted-level-0);\n",
       "  border: .5pt solid var(--sklearn-color-unfitted-level-3);\n",
       "}\n",
       "\n",
       ".sk-estimator-doc-link.fitted span {\n",
       "  /* fitted */\n",
       "  background: var(--sklearn-color-fitted-level-0);\n",
       "  border: var(--sklearn-color-fitted-level-3);\n",
       "}\n",
       "\n",
       ".sk-estimator-doc-link:hover span {\n",
       "  display: block;\n",
       "}\n",
       "\n",
       "/* \"?\"-specific style due to the `<a>` HTML tag */\n",
       "\n",
       "#sk-container-id-2 a.estimator_doc_link {\n",
       "  float: right;\n",
       "  font-size: 1rem;\n",
       "  line-height: 1em;\n",
       "  font-family: monospace;\n",
       "  background-color: var(--sklearn-color-background);\n",
       "  border-radius: 1rem;\n",
       "  height: 1rem;\n",
       "  width: 1rem;\n",
       "  text-decoration: none;\n",
       "  /* unfitted */\n",
       "  color: var(--sklearn-color-unfitted-level-1);\n",
       "  border: var(--sklearn-color-unfitted-level-1) 1pt solid;\n",
       "}\n",
       "\n",
       "#sk-container-id-2 a.estimator_doc_link.fitted {\n",
       "  /* fitted */\n",
       "  border: var(--sklearn-color-fitted-level-1) 1pt solid;\n",
       "  color: var(--sklearn-color-fitted-level-1);\n",
       "}\n",
       "\n",
       "/* On hover */\n",
       "#sk-container-id-2 a.estimator_doc_link:hover {\n",
       "  /* unfitted */\n",
       "  background-color: var(--sklearn-color-unfitted-level-3);\n",
       "  color: var(--sklearn-color-background);\n",
       "  text-decoration: none;\n",
       "}\n",
       "\n",
       "#sk-container-id-2 a.estimator_doc_link.fitted:hover {\n",
       "  /* fitted */\n",
       "  background-color: var(--sklearn-color-fitted-level-3);\n",
       "}\n",
       "</style><div id=\"sk-container-id-2\" class=\"sk-top-container\"><div class=\"sk-text-repr-fallback\"><pre>Pipeline(steps=[(&#x27;imputer&#x27;, SimpleImputer()),\n",
       "                (&#x27;regressor&#x27;, LinearRegression())])</pre><b>In a Jupyter environment, please rerun this cell to show the HTML representation or trust the notebook. <br />On GitHub, the HTML representation is unable to render, please try loading this page with nbviewer.org.</b></div><div class=\"sk-container\" hidden><div class=\"sk-item sk-dashed-wrapped\"><div class=\"sk-label-container\"><div class=\"sk-label fitted sk-toggleable\"><input class=\"sk-toggleable__control sk-hidden--visually\" id=\"sk-estimator-id-2\" type=\"checkbox\" ><label for=\"sk-estimator-id-2\" class=\"sk-toggleable__label fitted sk-toggleable__label-arrow\"><div><div>Pipeline</div></div><div><a class=\"sk-estimator-doc-link fitted\" rel=\"noreferrer\" target=\"_blank\" href=\"https://scikit-learn.org/1.6/modules/generated/sklearn.pipeline.Pipeline.html\">?<span>Documentation for Pipeline</span></a><span class=\"sk-estimator-doc-link fitted\">i<span>Fitted</span></span></div></label><div class=\"sk-toggleable__content fitted\"><pre>Pipeline(steps=[(&#x27;imputer&#x27;, SimpleImputer()),\n",
       "                (&#x27;regressor&#x27;, LinearRegression())])</pre></div> </div></div><div class=\"sk-serial\"><div class=\"sk-item\"><div class=\"sk-estimator fitted sk-toggleable\"><input class=\"sk-toggleable__control sk-hidden--visually\" id=\"sk-estimator-id-3\" type=\"checkbox\" ><label for=\"sk-estimator-id-3\" class=\"sk-toggleable__label fitted sk-toggleable__label-arrow\"><div><div>SimpleImputer</div></div><div><a class=\"sk-estimator-doc-link fitted\" rel=\"noreferrer\" target=\"_blank\" href=\"https://scikit-learn.org/1.6/modules/generated/sklearn.impute.SimpleImputer.html\">?<span>Documentation for SimpleImputer</span></a></div></label><div class=\"sk-toggleable__content fitted\"><pre>SimpleImputer()</pre></div> </div></div><div class=\"sk-item\"><div class=\"sk-estimator fitted sk-toggleable\"><input class=\"sk-toggleable__control sk-hidden--visually\" id=\"sk-estimator-id-4\" type=\"checkbox\" ><label for=\"sk-estimator-id-4\" class=\"sk-toggleable__label fitted sk-toggleable__label-arrow\"><div><div>LinearRegression</div></div><div><a class=\"sk-estimator-doc-link fitted\" rel=\"noreferrer\" target=\"_blank\" href=\"https://scikit-learn.org/1.6/modules/generated/sklearn.linear_model.LinearRegression.html\">?<span>Documentation for LinearRegression</span></a></div></label><div class=\"sk-toggleable__content fitted\"><pre>LinearRegression()</pre></div> </div></div></div></div></div></div>"
      ],
      "text/plain": [
       "Pipeline(steps=[('imputer', SimpleImputer()),\n",
       "                ('regressor', LinearRegression())])"
      ]
     },
     "execution_count": 56,
     "metadata": {},
     "output_type": "execute_result"
    }
   ],
   "source": [
    "linreg_pipeline.fit(X_train, y_train)"
   ]
  },
  {
   "cell_type": "code",
   "execution_count": 57,
   "id": "b2830848-013b-4e03-bfde-d4055c7efa21",
   "metadata": {},
   "outputs": [],
   "source": [
    "y_pred_linreg = linreg_pipeline.predict(X_test)"
   ]
  },
  {
   "cell_type": "code",
   "execution_count": 59,
   "id": "9cc87a28-e67b-419a-bbef-d6fa00d07936",
   "metadata": {},
   "outputs": [
    {
     "name": "stdout",
     "output_type": "stream",
     "text": [
      " MSE: 9622198771494130.0000\n",
      " R² : -0.0003\n"
     ]
    }
   ],
   "source": [
    "mse_linreg = mean_squared_error(y_test, y_pred_linreg)\n",
    "r2_linreg = r2_score(y_test, y_pred_linreg)\n",
    "\n",
    "print(f\" MSE: {mse_linreg:.4f}\")\n",
    "print(f\" R² : {r2_linreg:.4f}\")"
   ]
  },
  {
   "cell_type": "code",
   "execution_count": null,
   "id": "03cdd5c5-3b1b-48a8-9623-9b0277b98944",
   "metadata": {},
   "outputs": [],
   "source": [
    "# from the correlation matrix it seems that the sup_totale is the the best feature to build\n",
    "# a prediction model for ca, so a logistic regression or a xgboost model with a focus on \n",
    "# numerical values would fit the best for this prediction predicament"
   ]
  },
  {
   "cell_type": "code",
   "execution_count": 52,
   "id": "f99d9035-69ca-4850-90ad-ad92c2226584",
   "metadata": {},
   "outputs": [
    {
     "data": {
      "text/plain": [
       "Sup_Totale           1\n",
       "Reliquat             0\n",
       "Annee_declaration    1\n",
       "MARGE                0\n",
       "CA_log               0\n",
       "dtype: int64"
      ]
     },
     "execution_count": 52,
     "metadata": {},
     "output_type": "execute_result"
    }
   ],
   "source": [
    "X.isnull().sum()"
   ]
  },
  {
   "cell_type": "code",
   "execution_count": 60,
   "id": "9dc386af-942f-4e83-8b7b-03ffff100f28",
   "metadata": {},
   "outputs": [
    {
     "name": "stdout",
     "output_type": "stream",
     "text": [
      "Baseline MSE: 9623345923760366.0 Baseline R2: -0.00042287401585516804\n"
     ]
    }
   ],
   "source": [
    "y_baseline = [y_train.mean()] * len(y_test)\n",
    "baseline_mse = mean_squared_error(y_test, y_baseline)\n",
    "baseline_r2 = r2_score(y_test, y_baseline)\n",
    "print(f\"Baseline MSE: {baseline_mse} Baseline R2: {baseline_r2}\")"
   ]
  },
  {
   "cell_type": "code",
   "execution_count": 62,
   "id": "c8f6f82e-52a2-4082-970d-bad146bd67ae",
   "metadata": {},
   "outputs": [
    {
     "data": {
      "image/png": "[encoded data removed]",
      "text/plain": [
       "<Figure size 640x480 with 1 Axes>"
      ]
     },
     "metadata": {},
     "output_type": "display_data"
    }
   ],
   "source": [
    "plt.hist(y_train, bins=50)\n",
    "plt.title('Target Distribution')\n",
    "plt.xlabel('Target Value')\n",
    "plt.ylabel('Frequency')\n",
    "plt.show()"
   ]
  },
  {
   "cell_type": "code",
   "execution_count": 63,
   "id": "41ea9566-3cc9-4201-b7db-ef9016531ce9",
   "metadata": {},
   "outputs": [
    {
     "data": {
      "text/plain": [
       "1247      250800.00\n",
       "655       252200.00\n",
       "623       198000.00\n",
       "7146      250000.00\n",
       "3132      250000.00\n",
       "2199      387000.00\n",
       "2517      247862.72\n",
       "8578      250000.00\n",
       "10201     250000.00\n",
       "8979      663006.55\n",
       "6437      250000.00\n",
       "7562      237500.00\n",
       "5501      502288.64\n",
       "6260      250000.00\n",
       "9360      200000.00\n",
       "1746      250000.00\n",
       "9769      250000.00\n",
       "2627      250000.00\n",
       "6752      268197.10\n",
       "7416      200000.00\n",
       "76       3100000.00\n",
       "4525      250000.00\n",
       "7632      250000.00\n",
       "9084      332500.00\n",
       "4836      594659.47\n",
       "2260      218250.00\n",
       "1775      250000.00\n",
       "5023      220000.00\n",
       "93       1165610.72\n",
       "11039     250000.00\n",
       "7855      380000.00\n",
       "3979      250000.00\n",
       "714       386126.36\n",
       "1076      262200.00\n",
       "6095      242500.00\n",
       "3148      250000.00\n",
       "2464      225000.00\n",
       "2015      439501.14\n",
       "1885      242500.00\n",
       "5270      230000.00\n",
       "5620      406044.20\n",
       "8431      250000.00\n",
       "1488      237500.00\n",
       "4889      250000.00\n",
       "7298      250000.00\n",
       "7530      250000.00\n",
       "7793      250000.00\n",
       "10588     250000.00\n",
       "4643    -1374810.37\n",
       "10615     250000.00\n",
       "Name: CA, dtype: float64"
      ]
     },
     "execution_count": 63,
     "metadata": {},
     "output_type": "execute_result"
    }
   ],
   "source": [
    "y_train.head(50)"
   ]
  },
  {
   "cell_type": "code",
   "execution_count": 65,
   "id": "c3902a7f-ec30-4829-94dd-a538dd6f30c8",
   "metadata": {},
   "outputs": [
    {
     "name": "stdout",
     "output_type": "stream",
     "text": [
      "Zeros in y_train: 0\n",
      "Zeros in y_test: 0\n"
     ]
    }
   ],
   "source": [
    "print(\"Zeros in y_train:\",(y_train == 0).sum())\n",
    "print(\"Zeros in y_test:\",(y_test == 0).sum())"
   ]
  },
  {
   "cell_type": "code",
   "execution_count": 66,
   "id": "63203aad-2a33-4134-bff3-9ebfcd98d23a",
   "metadata": {},
   "outputs": [
    {
     "name": "stdout",
     "output_type": "stream",
     "text": [
      "Zeros in X_train: 8715\n",
      "Zeros in X_test: 2188\n"
     ]
    }
   ],
   "source": [
    "print(\"Zeros in X_train:\",(X_train == 0).sum().sum())\n",
    "print(\"Zeros in X_test:\",(X_test == 0).sum().sum())"
   ]
  },
  {
   "cell_type": "code",
   "execution_count": 67,
   "id": "9a817c89-86ef-49ad-9182-fa967d296a79",
   "metadata": {},
   "outputs": [
    {
     "data": {
      "text/html": [
       "<div>\n",
       "<style scoped>\n",
       "    .dataframe tbody tr th:only-of-type {\n",
       "        vertical-align: middle;\n",
       "    }\n",
       "\n",
       "    .dataframe tbody tr th {\n",
       "        vertical-align: top;\n",
       "    }\n",
       "\n",
       "    .dataframe thead th {\n",
       "        text-align: right;\n",
       "    }\n",
       "</style>\n",
       "<table border=\"1\" class=\"dataframe\">\n",
       "  <thead>\n",
       "    <tr style=\"text-align: right;\">\n",
       "      <th></th>\n",
       "      <th>Sup_Totale</th>\n",
       "      <th>Reliquat</th>\n",
       "      <th>Annee_declaration</th>\n",
       "      <th>MARGE</th>\n",
       "      <th>CA_log</th>\n",
       "    </tr>\n",
       "  </thead>\n",
       "  <tbody>\n",
       "    <tr>\n",
       "      <th>0</th>\n",
       "      <td>57.0</td>\n",
       "      <td>0.0</td>\n",
       "      <td>2022.0</td>\n",
       "      <td>68000.0</td>\n",
       "      <td>12.736704</td>\n",
       "    </tr>\n",
       "    <tr>\n",
       "      <th>1</th>\n",
       "      <td>337.0</td>\n",
       "      <td>0.0</td>\n",
       "      <td>2022.0</td>\n",
       "      <td>181440.0</td>\n",
       "      <td>13.312655</td>\n",
       "    </tr>\n",
       "    <tr>\n",
       "      <th>2</th>\n",
       "      <td>55.0</td>\n",
       "      <td>0.0</td>\n",
       "      <td>2022.0</td>\n",
       "      <td>66000.0</td>\n",
       "      <td>12.706851</td>\n",
       "    </tr>\n",
       "    <tr>\n",
       "      <th>3</th>\n",
       "      <td>0.0</td>\n",
       "      <td>0.0</td>\n",
       "      <td>2022.0</td>\n",
       "      <td>108000.0</td>\n",
       "      <td>12.793862</td>\n",
       "    </tr>\n",
       "    <tr>\n",
       "      <th>4</th>\n",
       "      <td>664.0</td>\n",
       "      <td>0.0</td>\n",
       "      <td>2022.0</td>\n",
       "      <td>478080.0</td>\n",
       "      <td>13.993825</td>\n",
       "    </tr>\n",
       "  </tbody>\n",
       "</table>\n",
       "</div>"
      ],
      "text/plain": [
       "   Sup_Totale  Reliquat  Annee_declaration     MARGE     CA_log\n",
       "0        57.0       0.0             2022.0   68000.0  12.736704\n",
       "1       337.0       0.0             2022.0  181440.0  13.312655\n",
       "2        55.0       0.0             2022.0   66000.0  12.706851\n",
       "3         0.0       0.0             2022.0  108000.0  12.793862\n",
       "4       664.0       0.0             2022.0  478080.0  13.993825"
      ]
     },
     "execution_count": 67,
     "metadata": {},
     "output_type": "execute_result"
    }
   ],
   "source": [
    "X.head()"
   ]
  },
  {
   "cell_type": "code",
   "execution_count": 69,
   "id": "629d4fbb-01e1-458c-917d-5cbbaafbc8cc",
   "metadata": {},
   "outputs": [
    {
     "name": "stdout",
     "output_type": "stream",
     "text": [
      "Sup_Totale           5383\n",
      "Reliquat             3332\n",
      "Annee_declaration       0\n",
      "MARGE                   0\n",
      "CA_log                  0\n",
      "dtype: int64\n"
     ]
    }
   ],
   "source": [
    "zero_counts = (X_train == 0).sum()\n",
    "print(zero_counts.sort_values(ascending = False).head(10))"
   ]
  },
  {
   "cell_type": "code",
   "execution_count": 73,
   "id": "e1f2b820-07f8-4fd7-9986-37155f843e18",
   "metadata": {},
   "outputs": [
    {
     "data": {
      "text/plain": [
       "0      57.0\n",
       "1     337.0\n",
       "2      55.0\n",
       "3       0.0\n",
       "4     664.0\n",
       "5     513.0\n",
       "6     384.0\n",
       "7       0.0\n",
       "8     395.0\n",
       "9     377.0\n",
       "10    403.0\n",
       "11    500.0\n",
       "12    297.0\n",
       "13    519.0\n",
       "14     67.0\n",
       "15     26.0\n",
       "16     55.0\n",
       "17      0.0\n",
       "18     26.0\n",
       "19    514.0\n",
       "20     35.0\n",
       "21    413.0\n",
       "22    413.0\n",
       "23    410.0\n",
       "24    410.0\n",
       "25    413.0\n",
       "26    413.0\n",
       "27    119.0\n",
       "28    119.0\n",
       "29     83.0\n",
       "30     83.0\n",
       "31    160.0\n",
       "32    160.0\n",
       "33     81.0\n",
       "34     81.0\n",
       "35     75.0\n",
       "36     75.0\n",
       "37     67.0\n",
       "38     67.0\n",
       "39     67.0\n",
       "40      0.0\n",
       "41      0.0\n",
       "42     83.0\n",
       "43     83.0\n",
       "44     42.0\n",
       "45    436.0\n",
       "46    436.0\n",
       "47      0.0\n",
       "48      0.0\n",
       "49      0.0\n",
       "Name: Sup_Totale, dtype: float64"
      ]
     },
     "execution_count": 73,
     "metadata": {},
     "output_type": "execute_result"
    }
   ],
   "source": [
    "df_cleaned['Sup_Totale'].head(50)"
   ]
  },
  {
   "cell_type": "code",
   "execution_count": null,
   "id": "f6811195-3671-462f-94c2-6e7ecfe24bc7",
   "metadata": {},
   "outputs": [],
   "source": []
  }
 ],
 "metadata": {
  "kernelspec": {
   "display_name": "Python 3 (ipykernel)",
   "language": "python",
   "name": "python3"
  },
  "language_info": {
   "codemirror_mode": {
    "name": "ipython",
    "version": 3
   },
   "file_extension": ".py",
   "mimetype": "text/x-python",
   "name": "python",
   "nbconvert_exporter": "python",
   "pygments_lexer": "ipython3",
   "version": "3.13.3"
  }
 },
 "nbformat": 4,
 "nbformat_minor": 5
}
